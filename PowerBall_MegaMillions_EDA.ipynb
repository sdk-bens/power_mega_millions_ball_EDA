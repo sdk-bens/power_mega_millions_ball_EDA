{
  "nbformat": 4,
  "nbformat_minor": 0,
  "metadata": {
    "colab": {
      "provenance": [],
      "mount_file_id": "1Y2s77hJ1JVd-yxL9lRZDSLaIZi5LV8f1",
      "authorship_tag": "ABX9TyPemd+VnGlNN1Nso4gnWbSS",
      "include_colab_link": true
    },
    "kernelspec": {
      "name": "python3",
      "display_name": "Python 3"
    },
    "language_info": {
      "name": "python"
    }
  },
  "cells": [
    {
      "cell_type": "markdown",
      "metadata": {
        "id": "view-in-github",
        "colab_type": "text"
      },
      "source": [
        "<a href=\"https://colab.research.google.com/github/sdk-bens/powerball_mega_millions_EDA/blob/comparison/PowerBall_MegaMillions_EDA.ipynb\" target=\"_parent\"><img src=\"https://colab.research.google.com/assets/colab-badge.svg\" alt=\"Open In Colab\"/></a>"
      ]
    },
    {
      "cell_type": "code",
      "source": [
        "import requests\n",
        "# PowerBall Data\n",
        "\n",
        "# URL for downloading Powerball data as CSV\n",
        "url = 'https://data.ny.gov/api/views/d6yy-54nr/rows.csv?accessType=DOWNLOAD'\n",
        "\n",
        "\n",
        "response = requests.get(url)\n",
        "\n",
        "\n",
        "if response.status_code == 200:\n",
        "    with open('powerball.csv', 'wb') as file:\n",
        "        file.write(response.content)\n",
        "    print(\"Powerball data downloaded successfully!\")\n",
        "else:\n",
        "    print(f\"Error: {response.status_code} - {response.text}\")\n",
        "\n",
        "# Mega Millions Data\n",
        "\n",
        "# URL for downloading Mega Millions data as CSV\n",
        "url = 'https://data.ny.gov/api/views/5xaw-6ayf/rows.csv?accessType=DOWNLOAD'\n",
        "\n",
        "response = requests.get(url)\n",
        "\n",
        "if response.status_code == 200:\n",
        "    with open('mega_millions.csv', 'wb') as file:\n",
        "        file.write(response.content)\n",
        "    print(\"Mega Millions data downloaded successfully!\")\n",
        "else:\n",
        "    print(f\"Error: {response.status_code} - {response.text}\")"
      ],
      "metadata": {
        "colab": {
          "base_uri": "https://localhost:8080/"
        },
        "id": "jAdiUy1a-tTs",
        "outputId": "13760d39-6a94-40d3-89ab-dda796c79629"
      },
      "execution_count": 2,
      "outputs": [
        {
          "output_type": "stream",
          "name": "stdout",
          "text": [
            "Powerball data downloaded successfully!\n",
            "Mega Millions data downloaded successfully!\n"
          ]
        }
      ]
    },
    {
      "cell_type": "code",
      "source": [
        "import pandas as pd\n",
        "\n",
        "# Reading the .csv files\n",
        "mega_millions = pd.read_csv('mega_millions.csv')\n",
        "powerball = pd.read_csv('powerball.csv')"
      ],
      "metadata": {
        "id": "pjPkebVs6wQ4"
      },
      "execution_count": 3,
      "outputs": []
    },
    {
      "cell_type": "markdown",
      "source": [
        "# Mega Millions EDA"
      ],
      "metadata": {
        "id": "np34N9fU7mz2"
      }
    },
    {
      "cell_type": "code",
      "source": [
        "mega_millions.head()"
      ],
      "metadata": {
        "colab": {
          "base_uri": "https://localhost:8080/",
          "height": 204
        },
        "id": "mZp2L-9SB7W4",
        "outputId": "8896eeae-1a0c-4a55-d488-244b86ee4c8f"
      },
      "execution_count": 4,
      "outputs": [
        {
          "output_type": "execute_result",
          "data": {
            "text/plain": [
              "    Draw Date Winning Numbers  Mega Ball  Multiplier\n",
              "0  09/25/2020  20 36 37 48 67         16         2.0\n",
              "1  09/29/2020  14 39 43 44 67         19         3.0\n",
              "2  10/02/2020  09 38 47 49 68         25         2.0\n",
              "3  10/06/2020  15 16 18 39 59         17         3.0\n",
              "4  10/09/2020  05 11 25 27 64         13         2.0"
            ],
            "text/html": [
              "\n",
              "  <div id=\"df-aaf3f8c2-ebcf-4be5-ad03-dc62e5d57e56\" class=\"colab-df-container\">\n",
              "    <div>\n",
              "<style scoped>\n",
              "    .dataframe tbody tr th:only-of-type {\n",
              "        vertical-align: middle;\n",
              "    }\n",
              "\n",
              "    .dataframe tbody tr th {\n",
              "        vertical-align: top;\n",
              "    }\n",
              "\n",
              "    .dataframe thead th {\n",
              "        text-align: right;\n",
              "    }\n",
              "</style>\n",
              "<table border=\"1\" class=\"dataframe\">\n",
              "  <thead>\n",
              "    <tr style=\"text-align: right;\">\n",
              "      <th></th>\n",
              "      <th>Draw Date</th>\n",
              "      <th>Winning Numbers</th>\n",
              "      <th>Mega Ball</th>\n",
              "      <th>Multiplier</th>\n",
              "    </tr>\n",
              "  </thead>\n",
              "  <tbody>\n",
              "    <tr>\n",
              "      <th>0</th>\n",
              "      <td>09/25/2020</td>\n",
              "      <td>20 36 37 48 67</td>\n",
              "      <td>16</td>\n",
              "      <td>2.0</td>\n",
              "    </tr>\n",
              "    <tr>\n",
              "      <th>1</th>\n",
              "      <td>09/29/2020</td>\n",
              "      <td>14 39 43 44 67</td>\n",
              "      <td>19</td>\n",
              "      <td>3.0</td>\n",
              "    </tr>\n",
              "    <tr>\n",
              "      <th>2</th>\n",
              "      <td>10/02/2020</td>\n",
              "      <td>09 38 47 49 68</td>\n",
              "      <td>25</td>\n",
              "      <td>2.0</td>\n",
              "    </tr>\n",
              "    <tr>\n",
              "      <th>3</th>\n",
              "      <td>10/06/2020</td>\n",
              "      <td>15 16 18 39 59</td>\n",
              "      <td>17</td>\n",
              "      <td>3.0</td>\n",
              "    </tr>\n",
              "    <tr>\n",
              "      <th>4</th>\n",
              "      <td>10/09/2020</td>\n",
              "      <td>05 11 25 27 64</td>\n",
              "      <td>13</td>\n",
              "      <td>2.0</td>\n",
              "    </tr>\n",
              "  </tbody>\n",
              "</table>\n",
              "</div>\n",
              "    <div class=\"colab-df-buttons\">\n",
              "\n",
              "  <div class=\"colab-df-container\">\n",
              "    <button class=\"colab-df-convert\" onclick=\"convertToInteractive('df-aaf3f8c2-ebcf-4be5-ad03-dc62e5d57e56')\"\n",
              "            title=\"Convert this dataframe to an interactive table.\"\n",
              "            style=\"display:none;\">\n",
              "\n",
              "  <svg xmlns=\"http://www.w3.org/2000/svg\" height=\"24px\" viewBox=\"0 -960 960 960\">\n",
              "    <path d=\"M120-120v-720h720v720H120Zm60-500h600v-160H180v160Zm220 220h160v-160H400v160Zm0 220h160v-160H400v160ZM180-400h160v-160H180v160Zm440 0h160v-160H620v160ZM180-180h160v-160H180v160Zm440 0h160v-160H620v160Z\"/>\n",
              "  </svg>\n",
              "    </button>\n",
              "\n",
              "  <style>\n",
              "    .colab-df-container {\n",
              "      display:flex;\n",
              "      gap: 12px;\n",
              "    }\n",
              "\n",
              "    .colab-df-convert {\n",
              "      background-color: #E8F0FE;\n",
              "      border: none;\n",
              "      border-radius: 50%;\n",
              "      cursor: pointer;\n",
              "      display: none;\n",
              "      fill: #1967D2;\n",
              "      height: 32px;\n",
              "      padding: 0 0 0 0;\n",
              "      width: 32px;\n",
              "    }\n",
              "\n",
              "    .colab-df-convert:hover {\n",
              "      background-color: #E2EBFA;\n",
              "      box-shadow: 0px 1px 2px rgba(60, 64, 67, 0.3), 0px 1px 3px 1px rgba(60, 64, 67, 0.15);\n",
              "      fill: #174EA6;\n",
              "    }\n",
              "\n",
              "    .colab-df-buttons div {\n",
              "      margin-bottom: 4px;\n",
              "    }\n",
              "\n",
              "    [theme=dark] .colab-df-convert {\n",
              "      background-color: #3B4455;\n",
              "      fill: #D2E3FC;\n",
              "    }\n",
              "\n",
              "    [theme=dark] .colab-df-convert:hover {\n",
              "      background-color: #434B5C;\n",
              "      box-shadow: 0px 1px 3px 1px rgba(0, 0, 0, 0.15);\n",
              "      filter: drop-shadow(0px 1px 2px rgba(0, 0, 0, 0.3));\n",
              "      fill: #FFFFFF;\n",
              "    }\n",
              "  </style>\n",
              "\n",
              "    <script>\n",
              "      const buttonEl =\n",
              "        document.querySelector('#df-aaf3f8c2-ebcf-4be5-ad03-dc62e5d57e56 button.colab-df-convert');\n",
              "      buttonEl.style.display =\n",
              "        google.colab.kernel.accessAllowed ? 'block' : 'none';\n",
              "\n",
              "      async function convertToInteractive(key) {\n",
              "        const element = document.querySelector('#df-aaf3f8c2-ebcf-4be5-ad03-dc62e5d57e56');\n",
              "        const dataTable =\n",
              "          await google.colab.kernel.invokeFunction('convertToInteractive',\n",
              "                                                    [key], {});\n",
              "        if (!dataTable) return;\n",
              "\n",
              "        const docLinkHtml = 'Like what you see? Visit the ' +\n",
              "          '<a target=\"_blank\" href=https://colab.research.google.com/notebooks/data_table.ipynb>data table notebook</a>'\n",
              "          + ' to learn more about interactive tables.';\n",
              "        element.innerHTML = '';\n",
              "        dataTable['output_type'] = 'display_data';\n",
              "        await google.colab.output.renderOutput(dataTable, element);\n",
              "        const docLink = document.createElement('div');\n",
              "        docLink.innerHTML = docLinkHtml;\n",
              "        element.appendChild(docLink);\n",
              "      }\n",
              "    </script>\n",
              "  </div>\n",
              "\n",
              "\n",
              "<div id=\"df-8d08f1e6-4323-4a3a-930b-ea8da95cb5f6\">\n",
              "  <button class=\"colab-df-quickchart\" onclick=\"quickchart('df-8d08f1e6-4323-4a3a-930b-ea8da95cb5f6')\"\n",
              "            title=\"Suggest charts\"\n",
              "            style=\"display:none;\">\n",
              "\n",
              "<svg xmlns=\"http://www.w3.org/2000/svg\" height=\"24px\"viewBox=\"0 0 24 24\"\n",
              "     width=\"24px\">\n",
              "    <g>\n",
              "        <path d=\"M19 3H5c-1.1 0-2 .9-2 2v14c0 1.1.9 2 2 2h14c1.1 0 2-.9 2-2V5c0-1.1-.9-2-2-2zM9 17H7v-7h2v7zm4 0h-2V7h2v10zm4 0h-2v-4h2v4z\"/>\n",
              "    </g>\n",
              "</svg>\n",
              "  </button>\n",
              "\n",
              "<style>\n",
              "  .colab-df-quickchart {\n",
              "      --bg-color: #E8F0FE;\n",
              "      --fill-color: #1967D2;\n",
              "      --hover-bg-color: #E2EBFA;\n",
              "      --hover-fill-color: #174EA6;\n",
              "      --disabled-fill-color: #AAA;\n",
              "      --disabled-bg-color: #DDD;\n",
              "  }\n",
              "\n",
              "  [theme=dark] .colab-df-quickchart {\n",
              "      --bg-color: #3B4455;\n",
              "      --fill-color: #D2E3FC;\n",
              "      --hover-bg-color: #434B5C;\n",
              "      --hover-fill-color: #FFFFFF;\n",
              "      --disabled-bg-color: #3B4455;\n",
              "      --disabled-fill-color: #666;\n",
              "  }\n",
              "\n",
              "  .colab-df-quickchart {\n",
              "    background-color: var(--bg-color);\n",
              "    border: none;\n",
              "    border-radius: 50%;\n",
              "    cursor: pointer;\n",
              "    display: none;\n",
              "    fill: var(--fill-color);\n",
              "    height: 32px;\n",
              "    padding: 0;\n",
              "    width: 32px;\n",
              "  }\n",
              "\n",
              "  .colab-df-quickchart:hover {\n",
              "    background-color: var(--hover-bg-color);\n",
              "    box-shadow: 0 1px 2px rgba(60, 64, 67, 0.3), 0 1px 3px 1px rgba(60, 64, 67, 0.15);\n",
              "    fill: var(--button-hover-fill-color);\n",
              "  }\n",
              "\n",
              "  .colab-df-quickchart-complete:disabled,\n",
              "  .colab-df-quickchart-complete:disabled:hover {\n",
              "    background-color: var(--disabled-bg-color);\n",
              "    fill: var(--disabled-fill-color);\n",
              "    box-shadow: none;\n",
              "  }\n",
              "\n",
              "  .colab-df-spinner {\n",
              "    border: 2px solid var(--fill-color);\n",
              "    border-color: transparent;\n",
              "    border-bottom-color: var(--fill-color);\n",
              "    animation:\n",
              "      spin 1s steps(1) infinite;\n",
              "  }\n",
              "\n",
              "  @keyframes spin {\n",
              "    0% {\n",
              "      border-color: transparent;\n",
              "      border-bottom-color: var(--fill-color);\n",
              "      border-left-color: var(--fill-color);\n",
              "    }\n",
              "    20% {\n",
              "      border-color: transparent;\n",
              "      border-left-color: var(--fill-color);\n",
              "      border-top-color: var(--fill-color);\n",
              "    }\n",
              "    30% {\n",
              "      border-color: transparent;\n",
              "      border-left-color: var(--fill-color);\n",
              "      border-top-color: var(--fill-color);\n",
              "      border-right-color: var(--fill-color);\n",
              "    }\n",
              "    40% {\n",
              "      border-color: transparent;\n",
              "      border-right-color: var(--fill-color);\n",
              "      border-top-color: var(--fill-color);\n",
              "    }\n",
              "    60% {\n",
              "      border-color: transparent;\n",
              "      border-right-color: var(--fill-color);\n",
              "    }\n",
              "    80% {\n",
              "      border-color: transparent;\n",
              "      border-right-color: var(--fill-color);\n",
              "      border-bottom-color: var(--fill-color);\n",
              "    }\n",
              "    90% {\n",
              "      border-color: transparent;\n",
              "      border-bottom-color: var(--fill-color);\n",
              "    }\n",
              "  }\n",
              "</style>\n",
              "\n",
              "  <script>\n",
              "    async function quickchart(key) {\n",
              "      const quickchartButtonEl =\n",
              "        document.querySelector('#' + key + ' button');\n",
              "      quickchartButtonEl.disabled = true;  // To prevent multiple clicks.\n",
              "      quickchartButtonEl.classList.add('colab-df-spinner');\n",
              "      try {\n",
              "        const charts = await google.colab.kernel.invokeFunction(\n",
              "            'suggestCharts', [key], {});\n",
              "      } catch (error) {\n",
              "        console.error('Error during call to suggestCharts:', error);\n",
              "      }\n",
              "      quickchartButtonEl.classList.remove('colab-df-spinner');\n",
              "      quickchartButtonEl.classList.add('colab-df-quickchart-complete');\n",
              "    }\n",
              "    (() => {\n",
              "      let quickchartButtonEl =\n",
              "        document.querySelector('#df-8d08f1e6-4323-4a3a-930b-ea8da95cb5f6 button');\n",
              "      quickchartButtonEl.style.display =\n",
              "        google.colab.kernel.accessAllowed ? 'block' : 'none';\n",
              "    })();\n",
              "  </script>\n",
              "</div>\n",
              "\n",
              "    </div>\n",
              "  </div>\n"
            ],
            "application/vnd.google.colaboratory.intrinsic+json": {
              "type": "dataframe",
              "variable_name": "mega_millions",
              "summary": "{\n  \"name\": \"mega_millions\",\n  \"rows\": 2337,\n  \"fields\": [\n    {\n      \"column\": \"Draw Date\",\n      \"properties\": {\n        \"dtype\": \"object\",\n        \"num_unique_values\": 2337,\n        \"samples\": [\n          \"10/19/2004\",\n          \"10/22/2021\",\n          \"07/31/2007\"\n        ],\n        \"semantic_type\": \"\",\n        \"description\": \"\"\n      }\n    },\n    {\n      \"column\": \"Winning Numbers\",\n      \"properties\": {\n        \"dtype\": \"string\",\n        \"num_unique_values\": 2337,\n        \"samples\": [\n          \"06 13 19 34 50\",\n          \"09 14 26 29 66\",\n          \"05 18 37 39 43\"\n        ],\n        \"semantic_type\": \"\",\n        \"description\": \"\"\n      }\n    },\n    {\n      \"column\": \"Mega Ball\",\n      \"properties\": {\n        \"dtype\": \"number\",\n        \"std\": 12,\n        \"min\": 1,\n        \"max\": 52,\n        \"num_unique_values\": 52,\n        \"samples\": [\n          9,\n          44,\n          50\n        ],\n        \"semantic_type\": \"\",\n        \"description\": \"\"\n      }\n    },\n    {\n      \"column\": \"Multiplier\",\n      \"properties\": {\n        \"dtype\": \"number\",\n        \"std\": 0.9903359059732839,\n        \"min\": 2.0,\n        \"max\": 5.0,\n        \"num_unique_values\": 4,\n        \"samples\": [\n          3.0,\n          4.0,\n          2.0\n        ],\n        \"semantic_type\": \"\",\n        \"description\": \"\"\n      }\n    }\n  ]\n}"
            }
          },
          "metadata": {},
          "execution_count": 4
        }
      ]
    },
    {
      "cell_type": "code",
      "source": [
        "# Checking for null value\n",
        "mega_millions.isnull().values.any()"
      ],
      "metadata": {
        "colab": {
          "base_uri": "https://localhost:8080/"
        },
        "id": "PAtZWGUoS2ze",
        "outputId": "63bca024-93bb-4998-b5d7-2d1862412837"
      },
      "execution_count": 5,
      "outputs": [
        {
          "output_type": "execute_result",
          "data": {
            "text/plain": [
              "True"
            ]
          },
          "metadata": {},
          "execution_count": 5
        }
      ]
    },
    {
      "cell_type": "code",
      "source": [
        "mega_millions.isnull().sum().sum()"
      ],
      "metadata": {
        "colab": {
          "base_uri": "https://localhost:8080/"
        },
        "id": "6dnu8ROe8Cxt",
        "outputId": "4c99517d-9b52-47e7-b5ab-0f05378f432e"
      },
      "execution_count": 6,
      "outputs": [
        {
          "output_type": "execute_result",
          "data": {
            "text/plain": [
              "903"
            ]
          },
          "metadata": {},
          "execution_count": 6
        }
      ]
    },
    {
      "cell_type": "code",
      "source": [
        "# Checking for null values for each column individually\n",
        "for i in mega_millions.columns:\n",
        "  if mega_millions[i].isnull().values.any():\n",
        "    print(f\"column {i} has null values\")"
      ],
      "metadata": {
        "id": "XYAncCLTS2u0",
        "colab": {
          "base_uri": "https://localhost:8080/"
        },
        "outputId": "50ba7cf7-125f-43fd-e1f9-567cb38872b5"
      },
      "execution_count": 7,
      "outputs": [
        {
          "output_type": "stream",
          "name": "stdout",
          "text": [
            "column Multiplier has null values\n"
          ]
        }
      ]
    },
    {
      "cell_type": "code",
      "source": [
        "# Replacing null values with 0 for the Multiplier column\n",
        "mega_millions['Multiplier'].fillna(0, inplace=True)"
      ],
      "metadata": {
        "colab": {
          "base_uri": "https://localhost:8080/"
        },
        "id": "xxYnPv9bTkxO",
        "outputId": "f5712c54-47c3-4c0f-d683-15404d3dff38"
      },
      "execution_count": 8,
      "outputs": [
        {
          "output_type": "stream",
          "name": "stderr",
          "text": [
            "<ipython-input-8-adbacbc98105>:2: FutureWarning: A value is trying to be set on a copy of a DataFrame or Series through chained assignment using an inplace method.\n",
            "The behavior will change in pandas 3.0. This inplace method will never work because the intermediate object on which we are setting values always behaves as a copy.\n",
            "\n",
            "For example, when doing 'df[col].method(value, inplace=True)', try using 'df.method({col: value}, inplace=True)' or df[col] = df[col].method(value) instead, to perform the operation inplace on the original object.\n",
            "\n",
            "\n",
            "  mega_millions['Multiplier'].fillna(0, inplace=True)\n"
          ]
        }
      ]
    },
    {
      "cell_type": "code",
      "source": [
        "# Dividing the winning number into 5 numbers\n",
        "\n",
        "mega_millions['Num1'] = mega_millions['Winning Numbers'].str.split().str[0]\n",
        "mega_millions['Num2'] = mega_millions['Winning Numbers'].str.split().str[1]\n",
        "mega_millions['Num3'] = mega_millions['Winning Numbers'].str.split().str[2]\n",
        "mega_millions['Num4'] = mega_millions['Winning Numbers'].str.split().str[3]\n",
        "mega_millions['Num5'] = mega_millions['Winning Numbers'].str.split().str[4]"
      ],
      "metadata": {
        "id": "FN2PS6eD7IAQ"
      },
      "execution_count": 9,
      "outputs": []
    },
    {
      "cell_type": "code",
      "source": [
        "# Diving the draw date columns into Month, Day, Year\n",
        "\n",
        "mega_millions['Month'] = mega_millions['Draw Date'].str.split(\"/\").str[0]\n",
        "mega_millions['Day'] = mega_millions['Draw Date'].str.split(\"/\").str[1]\n",
        "mega_millions['Year'] = mega_millions['Draw Date'].str.split(\"/\").str[2]"
      ],
      "metadata": {
        "id": "b6JjOM1U7NZr"
      },
      "execution_count": 10,
      "outputs": []
    },
    {
      "cell_type": "code",
      "source": [
        "mega_millions.rename(columns={'Mega Ball': 'Ball'}, inplace=True)"
      ],
      "metadata": {
        "id": "luYrlZTpRxa-"
      },
      "execution_count": 11,
      "outputs": []
    },
    {
      "cell_type": "code",
      "source": [
        "# Reordering the columns\n",
        "mega_millions = mega_millions[[\"Month\", \"Day\", \"Year\", \"Num1\", \"Num2\", \"Num3\", \"Num4\", \"Num5\", \"Winning Numbers\", \"Ball\", \"Multiplier\"]]"
      ],
      "metadata": {
        "id": "YredwYs08Dm6"
      },
      "execution_count": 12,
      "outputs": []
    },
    {
      "cell_type": "code",
      "source": [
        "# Converting columns wiht numbers to numerical columns\n",
        "def convert_to_int(df, columns=['Month', 'Day', 'Year', 'Num1', 'Num2', 'Num3', 'Num4', 'Num5', 'Ball', 'Multiplier']):\n",
        "  for column in columns:\n",
        "    df[column] = pd.to_numeric(df[column], errors='coerce').astype('Int64')"
      ],
      "metadata": {
        "id": "6TVzyIVW8DpH"
      },
      "execution_count": 13,
      "outputs": []
    },
    {
      "cell_type": "code",
      "source": [
        "convert_to_int(mega_millions)"
      ],
      "metadata": {
        "id": "5sX1jcakQ-a3"
      },
      "execution_count": 14,
      "outputs": []
    },
    {
      "cell_type": "code",
      "source": [
        "mega_millions.head()"
      ],
      "metadata": {
        "colab": {
          "base_uri": "https://localhost:8080/",
          "height": 204
        },
        "id": "LTy4n3dj7-5C",
        "outputId": "9ec09dbb-0638-4861-ff0f-1b705e18ac51"
      },
      "execution_count": 15,
      "outputs": [
        {
          "output_type": "execute_result",
          "data": {
            "text/plain": [
              "   Month  Day  Year  Num1  Num2  Num3  Num4  Num5 Winning Numbers  Ball  \\\n",
              "0      9   25  2020    20    36    37    48    67  20 36 37 48 67    16   \n",
              "1      9   29  2020    14    39    43    44    67  14 39 43 44 67    19   \n",
              "2     10    2  2020     9    38    47    49    68  09 38 47 49 68    25   \n",
              "3     10    6  2020    15    16    18    39    59  15 16 18 39 59    17   \n",
              "4     10    9  2020     5    11    25    27    64  05 11 25 27 64    13   \n",
              "\n",
              "   Multiplier  \n",
              "0           2  \n",
              "1           3  \n",
              "2           2  \n",
              "3           3  \n",
              "4           2  "
            ],
            "text/html": [
              "\n",
              "  <div id=\"df-50a6b167-0920-43c9-bc5d-a2ae040536ba\" class=\"colab-df-container\">\n",
              "    <div>\n",
              "<style scoped>\n",
              "    .dataframe tbody tr th:only-of-type {\n",
              "        vertical-align: middle;\n",
              "    }\n",
              "\n",
              "    .dataframe tbody tr th {\n",
              "        vertical-align: top;\n",
              "    }\n",
              "\n",
              "    .dataframe thead th {\n",
              "        text-align: right;\n",
              "    }\n",
              "</style>\n",
              "<table border=\"1\" class=\"dataframe\">\n",
              "  <thead>\n",
              "    <tr style=\"text-align: right;\">\n",
              "      <th></th>\n",
              "      <th>Month</th>\n",
              "      <th>Day</th>\n",
              "      <th>Year</th>\n",
              "      <th>Num1</th>\n",
              "      <th>Num2</th>\n",
              "      <th>Num3</th>\n",
              "      <th>Num4</th>\n",
              "      <th>Num5</th>\n",
              "      <th>Winning Numbers</th>\n",
              "      <th>Ball</th>\n",
              "      <th>Multiplier</th>\n",
              "    </tr>\n",
              "  </thead>\n",
              "  <tbody>\n",
              "    <tr>\n",
              "      <th>0</th>\n",
              "      <td>9</td>\n",
              "      <td>25</td>\n",
              "      <td>2020</td>\n",
              "      <td>20</td>\n",
              "      <td>36</td>\n",
              "      <td>37</td>\n",
              "      <td>48</td>\n",
              "      <td>67</td>\n",
              "      <td>20 36 37 48 67</td>\n",
              "      <td>16</td>\n",
              "      <td>2</td>\n",
              "    </tr>\n",
              "    <tr>\n",
              "      <th>1</th>\n",
              "      <td>9</td>\n",
              "      <td>29</td>\n",
              "      <td>2020</td>\n",
              "      <td>14</td>\n",
              "      <td>39</td>\n",
              "      <td>43</td>\n",
              "      <td>44</td>\n",
              "      <td>67</td>\n",
              "      <td>14 39 43 44 67</td>\n",
              "      <td>19</td>\n",
              "      <td>3</td>\n",
              "    </tr>\n",
              "    <tr>\n",
              "      <th>2</th>\n",
              "      <td>10</td>\n",
              "      <td>2</td>\n",
              "      <td>2020</td>\n",
              "      <td>9</td>\n",
              "      <td>38</td>\n",
              "      <td>47</td>\n",
              "      <td>49</td>\n",
              "      <td>68</td>\n",
              "      <td>09 38 47 49 68</td>\n",
              "      <td>25</td>\n",
              "      <td>2</td>\n",
              "    </tr>\n",
              "    <tr>\n",
              "      <th>3</th>\n",
              "      <td>10</td>\n",
              "      <td>6</td>\n",
              "      <td>2020</td>\n",
              "      <td>15</td>\n",
              "      <td>16</td>\n",
              "      <td>18</td>\n",
              "      <td>39</td>\n",
              "      <td>59</td>\n",
              "      <td>15 16 18 39 59</td>\n",
              "      <td>17</td>\n",
              "      <td>3</td>\n",
              "    </tr>\n",
              "    <tr>\n",
              "      <th>4</th>\n",
              "      <td>10</td>\n",
              "      <td>9</td>\n",
              "      <td>2020</td>\n",
              "      <td>5</td>\n",
              "      <td>11</td>\n",
              "      <td>25</td>\n",
              "      <td>27</td>\n",
              "      <td>64</td>\n",
              "      <td>05 11 25 27 64</td>\n",
              "      <td>13</td>\n",
              "      <td>2</td>\n",
              "    </tr>\n",
              "  </tbody>\n",
              "</table>\n",
              "</div>\n",
              "    <div class=\"colab-df-buttons\">\n",
              "\n",
              "  <div class=\"colab-df-container\">\n",
              "    <button class=\"colab-df-convert\" onclick=\"convertToInteractive('df-50a6b167-0920-43c9-bc5d-a2ae040536ba')\"\n",
              "            title=\"Convert this dataframe to an interactive table.\"\n",
              "            style=\"display:none;\">\n",
              "\n",
              "  <svg xmlns=\"http://www.w3.org/2000/svg\" height=\"24px\" viewBox=\"0 -960 960 960\">\n",
              "    <path d=\"M120-120v-720h720v720H120Zm60-500h600v-160H180v160Zm220 220h160v-160H400v160Zm0 220h160v-160H400v160ZM180-400h160v-160H180v160Zm440 0h160v-160H620v160ZM180-180h160v-160H180v160Zm440 0h160v-160H620v160Z\"/>\n",
              "  </svg>\n",
              "    </button>\n",
              "\n",
              "  <style>\n",
              "    .colab-df-container {\n",
              "      display:flex;\n",
              "      gap: 12px;\n",
              "    }\n",
              "\n",
              "    .colab-df-convert {\n",
              "      background-color: #E8F0FE;\n",
              "      border: none;\n",
              "      border-radius: 50%;\n",
              "      cursor: pointer;\n",
              "      display: none;\n",
              "      fill: #1967D2;\n",
              "      height: 32px;\n",
              "      padding: 0 0 0 0;\n",
              "      width: 32px;\n",
              "    }\n",
              "\n",
              "    .colab-df-convert:hover {\n",
              "      background-color: #E2EBFA;\n",
              "      box-shadow: 0px 1px 2px rgba(60, 64, 67, 0.3), 0px 1px 3px 1px rgba(60, 64, 67, 0.15);\n",
              "      fill: #174EA6;\n",
              "    }\n",
              "\n",
              "    .colab-df-buttons div {\n",
              "      margin-bottom: 4px;\n",
              "    }\n",
              "\n",
              "    [theme=dark] .colab-df-convert {\n",
              "      background-color: #3B4455;\n",
              "      fill: #D2E3FC;\n",
              "    }\n",
              "\n",
              "    [theme=dark] .colab-df-convert:hover {\n",
              "      background-color: #434B5C;\n",
              "      box-shadow: 0px 1px 3px 1px rgba(0, 0, 0, 0.15);\n",
              "      filter: drop-shadow(0px 1px 2px rgba(0, 0, 0, 0.3));\n",
              "      fill: #FFFFFF;\n",
              "    }\n",
              "  </style>\n",
              "\n",
              "    <script>\n",
              "      const buttonEl =\n",
              "        document.querySelector('#df-50a6b167-0920-43c9-bc5d-a2ae040536ba button.colab-df-convert');\n",
              "      buttonEl.style.display =\n",
              "        google.colab.kernel.accessAllowed ? 'block' : 'none';\n",
              "\n",
              "      async function convertToInteractive(key) {\n",
              "        const element = document.querySelector('#df-50a6b167-0920-43c9-bc5d-a2ae040536ba');\n",
              "        const dataTable =\n",
              "          await google.colab.kernel.invokeFunction('convertToInteractive',\n",
              "                                                    [key], {});\n",
              "        if (!dataTable) return;\n",
              "\n",
              "        const docLinkHtml = 'Like what you see? Visit the ' +\n",
              "          '<a target=\"_blank\" href=https://colab.research.google.com/notebooks/data_table.ipynb>data table notebook</a>'\n",
              "          + ' to learn more about interactive tables.';\n",
              "        element.innerHTML = '';\n",
              "        dataTable['output_type'] = 'display_data';\n",
              "        await google.colab.output.renderOutput(dataTable, element);\n",
              "        const docLink = document.createElement('div');\n",
              "        docLink.innerHTML = docLinkHtml;\n",
              "        element.appendChild(docLink);\n",
              "      }\n",
              "    </script>\n",
              "  </div>\n",
              "\n",
              "\n",
              "<div id=\"df-eb47c89e-811b-4334-8eb3-4651257067bc\">\n",
              "  <button class=\"colab-df-quickchart\" onclick=\"quickchart('df-eb47c89e-811b-4334-8eb3-4651257067bc')\"\n",
              "            title=\"Suggest charts\"\n",
              "            style=\"display:none;\">\n",
              "\n",
              "<svg xmlns=\"http://www.w3.org/2000/svg\" height=\"24px\"viewBox=\"0 0 24 24\"\n",
              "     width=\"24px\">\n",
              "    <g>\n",
              "        <path d=\"M19 3H5c-1.1 0-2 .9-2 2v14c0 1.1.9 2 2 2h14c1.1 0 2-.9 2-2V5c0-1.1-.9-2-2-2zM9 17H7v-7h2v7zm4 0h-2V7h2v10zm4 0h-2v-4h2v4z\"/>\n",
              "    </g>\n",
              "</svg>\n",
              "  </button>\n",
              "\n",
              "<style>\n",
              "  .colab-df-quickchart {\n",
              "      --bg-color: #E8F0FE;\n",
              "      --fill-color: #1967D2;\n",
              "      --hover-bg-color: #E2EBFA;\n",
              "      --hover-fill-color: #174EA6;\n",
              "      --disabled-fill-color: #AAA;\n",
              "      --disabled-bg-color: #DDD;\n",
              "  }\n",
              "\n",
              "  [theme=dark] .colab-df-quickchart {\n",
              "      --bg-color: #3B4455;\n",
              "      --fill-color: #D2E3FC;\n",
              "      --hover-bg-color: #434B5C;\n",
              "      --hover-fill-color: #FFFFFF;\n",
              "      --disabled-bg-color: #3B4455;\n",
              "      --disabled-fill-color: #666;\n",
              "  }\n",
              "\n",
              "  .colab-df-quickchart {\n",
              "    background-color: var(--bg-color);\n",
              "    border: none;\n",
              "    border-radius: 50%;\n",
              "    cursor: pointer;\n",
              "    display: none;\n",
              "    fill: var(--fill-color);\n",
              "    height: 32px;\n",
              "    padding: 0;\n",
              "    width: 32px;\n",
              "  }\n",
              "\n",
              "  .colab-df-quickchart:hover {\n",
              "    background-color: var(--hover-bg-color);\n",
              "    box-shadow: 0 1px 2px rgba(60, 64, 67, 0.3), 0 1px 3px 1px rgba(60, 64, 67, 0.15);\n",
              "    fill: var(--button-hover-fill-color);\n",
              "  }\n",
              "\n",
              "  .colab-df-quickchart-complete:disabled,\n",
              "  .colab-df-quickchart-complete:disabled:hover {\n",
              "    background-color: var(--disabled-bg-color);\n",
              "    fill: var(--disabled-fill-color);\n",
              "    box-shadow: none;\n",
              "  }\n",
              "\n",
              "  .colab-df-spinner {\n",
              "    border: 2px solid var(--fill-color);\n",
              "    border-color: transparent;\n",
              "    border-bottom-color: var(--fill-color);\n",
              "    animation:\n",
              "      spin 1s steps(1) infinite;\n",
              "  }\n",
              "\n",
              "  @keyframes spin {\n",
              "    0% {\n",
              "      border-color: transparent;\n",
              "      border-bottom-color: var(--fill-color);\n",
              "      border-left-color: var(--fill-color);\n",
              "    }\n",
              "    20% {\n",
              "      border-color: transparent;\n",
              "      border-left-color: var(--fill-color);\n",
              "      border-top-color: var(--fill-color);\n",
              "    }\n",
              "    30% {\n",
              "      border-color: transparent;\n",
              "      border-left-color: var(--fill-color);\n",
              "      border-top-color: var(--fill-color);\n",
              "      border-right-color: var(--fill-color);\n",
              "    }\n",
              "    40% {\n",
              "      border-color: transparent;\n",
              "      border-right-color: var(--fill-color);\n",
              "      border-top-color: var(--fill-color);\n",
              "    }\n",
              "    60% {\n",
              "      border-color: transparent;\n",
              "      border-right-color: var(--fill-color);\n",
              "    }\n",
              "    80% {\n",
              "      border-color: transparent;\n",
              "      border-right-color: var(--fill-color);\n",
              "      border-bottom-color: var(--fill-color);\n",
              "    }\n",
              "    90% {\n",
              "      border-color: transparent;\n",
              "      border-bottom-color: var(--fill-color);\n",
              "    }\n",
              "  }\n",
              "</style>\n",
              "\n",
              "  <script>\n",
              "    async function quickchart(key) {\n",
              "      const quickchartButtonEl =\n",
              "        document.querySelector('#' + key + ' button');\n",
              "      quickchartButtonEl.disabled = true;  // To prevent multiple clicks.\n",
              "      quickchartButtonEl.classList.add('colab-df-spinner');\n",
              "      try {\n",
              "        const charts = await google.colab.kernel.invokeFunction(\n",
              "            'suggestCharts', [key], {});\n",
              "      } catch (error) {\n",
              "        console.error('Error during call to suggestCharts:', error);\n",
              "      }\n",
              "      quickchartButtonEl.classList.remove('colab-df-spinner');\n",
              "      quickchartButtonEl.classList.add('colab-df-quickchart-complete');\n",
              "    }\n",
              "    (() => {\n",
              "      let quickchartButtonEl =\n",
              "        document.querySelector('#df-eb47c89e-811b-4334-8eb3-4651257067bc button');\n",
              "      quickchartButtonEl.style.display =\n",
              "        google.colab.kernel.accessAllowed ? 'block' : 'none';\n",
              "    })();\n",
              "  </script>\n",
              "</div>\n",
              "\n",
              "    </div>\n",
              "  </div>\n"
            ],
            "application/vnd.google.colaboratory.intrinsic+json": {
              "type": "dataframe",
              "variable_name": "mega_millions",
              "summary": "{\n  \"name\": \"mega_millions\",\n  \"rows\": 2337,\n  \"fields\": [\n    {\n      \"column\": \"Month\",\n      \"properties\": {\n        \"dtype\": \"Int64\",\n        \"num_unique_values\": 12,\n        \"samples\": [\n          6,\n          7,\n          9\n        ],\n        \"semantic_type\": \"\",\n        \"description\": \"\"\n      }\n    },\n    {\n      \"column\": \"Day\",\n      \"properties\": {\n        \"dtype\": \"Int64\",\n        \"num_unique_values\": 31,\n        \"samples\": [\n          21,\n          1,\n          12\n        ],\n        \"semantic_type\": \"\",\n        \"description\": \"\"\n      }\n    },\n    {\n      \"column\": \"Year\",\n      \"properties\": {\n        \"dtype\": \"Int64\",\n        \"num_unique_values\": 23,\n        \"samples\": [\n          2006,\n          2012,\n          2020\n        ],\n        \"semantic_type\": \"\",\n        \"description\": \"\"\n      }\n    },\n    {\n      \"column\": \"Num1\",\n      \"properties\": {\n        \"dtype\": \"Int64\",\n        \"num_unique_values\": 44,\n        \"samples\": [\n          31,\n          22,\n          36\n        ],\n        \"semantic_type\": \"\",\n        \"description\": \"\"\n      }\n    },\n    {\n      \"column\": \"Num2\",\n      \"properties\": {\n        \"dtype\": \"Int64\",\n        \"num_unique_values\": 60,\n        \"samples\": [\n          36,\n          44,\n          9\n        ],\n        \"semantic_type\": \"\",\n        \"description\": \"\"\n      }\n    },\n    {\n      \"column\": \"Num3\",\n      \"properties\": {\n        \"dtype\": \"Int64\",\n        \"num_unique_values\": 66,\n        \"samples\": [\n          52,\n          67,\n          37\n        ],\n        \"semantic_type\": \"\",\n        \"description\": \"\"\n      }\n    },\n    {\n      \"column\": \"Num4\",\n      \"properties\": {\n        \"dtype\": \"Int64\",\n        \"num_unique_values\": 68,\n        \"samples\": [\n          21,\n          51,\n          27\n        ],\n        \"semantic_type\": \"\",\n        \"description\": \"\"\n      }\n    },\n    {\n      \"column\": \"Num5\",\n      \"properties\": {\n        \"dtype\": \"Int64\",\n        \"num_unique_values\": 59,\n        \"samples\": [\n          67,\n          57,\n          38\n        ],\n        \"semantic_type\": \"\",\n        \"description\": \"\"\n      }\n    },\n    {\n      \"column\": \"Winning Numbers\",\n      \"properties\": {\n        \"dtype\": \"string\",\n        \"num_unique_values\": 2337,\n        \"samples\": [\n          \"06 13 19 34 50\",\n          \"09 14 26 29 66\",\n          \"05 18 37 39 43\"\n        ],\n        \"semantic_type\": \"\",\n        \"description\": \"\"\n      }\n    },\n    {\n      \"column\": \"Ball\",\n      \"properties\": {\n        \"dtype\": \"Int64\",\n        \"num_unique_values\": 52,\n        \"samples\": [\n          9,\n          44,\n          50\n        ],\n        \"semantic_type\": \"\",\n        \"description\": \"\"\n      }\n    },\n    {\n      \"column\": \"Multiplier\",\n      \"properties\": {\n        \"dtype\": \"Int64\",\n        \"num_unique_values\": 5,\n        \"samples\": [\n          3,\n          0,\n          5\n        ],\n        \"semantic_type\": \"\",\n        \"description\": \"\"\n      }\n    }\n  ]\n}"
            }
          },
          "metadata": {},
          "execution_count": 15
        }
      ]
    },
    {
      "cell_type": "code",
      "source": [
        "# Saving the processed MgaMillions darafmdataframerw to csv\n",
        "mega_millions.to_csv('drive/MyDrive/PowerMega/processed_mega_millions.csv', index=False)"
      ],
      "metadata": {
        "id": "CqXslz6EMM-L"
      },
      "execution_count": 18,
      "outputs": []
    },
    {
      "cell_type": "code",
      "source": [
        "# Check for duplicates in the 'Winning Numbers' column\n",
        "def duplicate_numbers(df, column='Winning Numbers'):\n",
        "  duplicate_numbers = df[df.duplicated(subset=[column], keep=False)]\n",
        "  if not duplicate_numbers.empty:\n",
        "    print(\"Duplicate winning numbers found:\")\n",
        "    print(duplicate_numbers)\n",
        "  else:\n",
        "    print(\"No duplicate winning numbers found.\")"
      ],
      "metadata": {
        "id": "_-nl1G7s8Drc"
      },
      "execution_count": 19,
      "outputs": []
    },
    {
      "cell_type": "code",
      "source": [
        "duplicate_numbers(mega_millions)"
      ],
      "metadata": {
        "colab": {
          "base_uri": "https://localhost:8080/"
        },
        "id": "3v8uAEo6ptQ-",
        "outputId": "18d431cc-2317-4d95-bf3e-6e09842b6405"
      },
      "execution_count": 20,
      "outputs": [
        {
          "output_type": "stream",
          "name": "stdout",
          "text": [
            "No duplicate winning numbers found.\n"
          ]
        }
      ]
    },
    {
      "cell_type": "code",
      "source": [
        "# Counting the Multiplier column values\n",
        "count_multiplier_mega = mega_millions[\"Multiplier\"].value_counts()\n",
        "for number, count in count_multiplier_mega.items():\n",
        "    print(f\"Number: {number}, Count: {count}\")"
      ],
      "metadata": {
        "colab": {
          "base_uri": "https://localhost:8080/"
        },
        "id": "93oDgKOLPvTG",
        "outputId": "77d571fa-53b8-4b7c-d089-ba854971050d"
      },
      "execution_count": 21,
      "outputs": [
        {
          "output_type": "stream",
          "name": "stdout",
          "text": [
            "Number: 0, Count: 903\n",
            "Number: 3, Count: 481\n",
            "Number: 4, Count: 402\n",
            "Number: 2, Count: 356\n",
            "Number: 5, Count: 195\n"
          ]
        }
      ]
    },
    {
      "cell_type": "code",
      "source": [
        "# Ploting the Multiplier column counts\n",
        "from matplotlib import pyplot as plt\n",
        "plt.figure(figsize=(15, 6))\n",
        "count_multiplier_mega.plot(kind='bar', color=\"red\")\n",
        "plt.title(f'All values count in')\n",
        "plt.xlabel('Numbers')\n",
        "plt.ylabel('Counts')\n",
        "plt.xticks(rotation=0)\n",
        "plt.grid(axis='y', linestyle='--', alpha=0.7)\n",
        "plt.show()"
      ],
      "metadata": {
        "colab": {
          "base_uri": "https://localhost:8080/",
          "height": 497
        },
        "id": "-FZI05vGVGOH",
        "outputId": "f8d33783-a99e-4c38-e245-998f7c7afcd5"
      },
      "execution_count": 22,
      "outputs": [
        {
          "output_type": "display_data",
          "data": {
            "text/plain": [
              "<Figure size 1500x600 with 1 Axes>"
            ],
            "image/png": "[encoded data removed]"
          },
          "metadata": {}
        }
      ]
    },
    {
      "cell_type": "code",
      "source": [
        "from matplotlib import pyplot as plt\n",
        "# Counting the top n most repeated numbers\n",
        "def count_most_repeated(dataframe, column, n, plot=False):\n",
        "  # Validate inputs\n",
        "  if column not in dataframe.columns:\n",
        "      print(f\"Column '{column}' does not exist in the DataFrame.\")\n",
        "      return\n",
        "\n",
        "  if n <= 0:\n",
        "      print(\"Please provide a positive integer for 'n'.\")\n",
        "      return\n",
        "\n",
        "  top_n = dataframe[column].value_counts().head(n).index.tolist()\n",
        "  top_n_items = dataframe[column].value_counts().head(n)\n",
        "  all = dataframe[column].value_counts()\n",
        "  print(f\"Top {n} repeated numbers for {column} are: {top_n}\")\n",
        "  # Print each number and its count\n",
        "  for number, count in top_n_items.items():\n",
        "      print(f\"Number: {number}, Count: {count}\")\n",
        "\n",
        "  if plot:\n",
        "    # Create a color list based on whether the value is in the top n\n",
        "    colors = ['red' if number in top_n_items.index else 'skyblue' for number in all.index]\n",
        "    # Plotting the top n counts\n",
        "    plt.figure(figsize=(15, 6))\n",
        "    all.plot(kind='bar', color=colors)\n",
        "    plt.title(f'Numbers counts in {column}')\n",
        "    plt.xlabel('Numbers')\n",
        "    plt.ylabel('Counts')\n",
        "    plt.xticks(rotation=0)\n",
        "    plt.grid(axis='y', linestyle='--', alpha=0.7)\n",
        "    plt.show()"
      ],
      "metadata": {
        "id": "StittWYZ8i0-"
      },
      "execution_count": 23,
      "outputs": []
    },
    {
      "cell_type": "code",
      "source": [
        "# Counting most repeated number only for the 5 Num columns\n",
        "num_cols = [x for x in mega_millions.columns if x.startswith(\"Num\")]\n",
        "for col in num_cols:\n",
        "  count_most_repeated(mega_millions, col, 5, True)"
      ],
      "metadata": {
        "colab": {
          "base_uri": "https://localhost:8080/",
          "height": 1000
        },
        "id": "o2mDJDLM8nDw",
        "outputId": "7277d475-1962-4b93-f1c1-064a31044e5c"
      },
      "execution_count": 24,
      "outputs": [
        {
          "output_type": "stream",
          "name": "stdout",
          "text": [
            "Top 5 repeated numbers for Num1 are: [2, 3, 1, 4, 7]\n",
            "Number: 2, Count: 191\n",
            "Number: 3, Count: 183\n",
            "Number: 1, Count: 171\n",
            "Number: 4, Count: 149\n",
            "Number: 7, Count: 133\n"
          ]
        },
        {
          "output_type": "display_data",
          "data": {
            "text/plain": [
              "<Figure size 1500x600 with 1 Axes>"
            ],
            "image/png": "[encoded data removed]"
          },
          "metadata": {}
        },
        {
          "output_type": "stream",
          "name": "stdout",
          "text": [
            "Top 5 repeated numbers for Num2 are: [17, 15, 13, 12, 10]\n",
            "Number: 17, Count: 94\n",
            "Number: 15, Count: 90\n",
            "Number: 13, Count: 87\n",
            "Number: 12, Count: 86\n",
            "Number: 10, Count: 86\n"
          ]
        },
        {
          "output_type": "display_data",
          "data": {
            "text/plain": [
              "<Figure size 1500x600 with 1 Axes>"
            ],
            "image/png": "[encoded data removed]"
          },
          "metadata": {}
        },
        {
          "output_type": "stream",
          "name": "stdout",
          "text": [
            "Top 5 repeated numbers for Num3 are: [31, 26, 27, 24, 29]\n",
            "Number: 31, Count: 85\n",
            "Number: 26, Count: 80\n",
            "Number: 27, Count: 75\n",
            "Number: 24, Count: 74\n",
            "Number: 29, Count: 70\n"
          ]
        },
        {
          "output_type": "display_data",
          "data": {
            "text/plain": [
              "<Figure size 1500x600 with 1 Axes>"
            ],
            "image/png": "[encoded data removed]"
          },
          "metadata": {}
        },
        {
          "output_type": "stream",
          "name": "stdout",
          "text": [
            "Top 5 repeated numbers for Num4 are: [46, 42, 38, 40, 48]\n",
            "Number: 46, Count: 95\n",
            "Number: 42, Count: 84\n",
            "Number: 38, Count: 80\n",
            "Number: 40, Count: 77\n",
            "Number: 48, Count: 77\n"
          ]
        },
        {
          "output_type": "display_data",
          "data": {
            "text/plain": [
              "<Figure size 1500x600 with 1 Axes>"
            ],
            "image/png": "[encoded data removed]"
          },
          "metadata": {}
        },
        {
          "output_type": "stream",
          "name": "stdout",
          "text": [
            "Top 5 repeated numbers for Num5 are: [52, 51, 56, 50, 55]\n",
            "Number: 52, Count: 120\n",
            "Number: 51, Count: 114\n",
            "Number: 56, Count: 100\n",
            "Number: 50, Count: 99\n",
            "Number: 55, Count: 91\n"
          ]
        },
        {
          "output_type": "display_data",
          "data": {
            "text/plain": [
              "<Figure size 1500x600 with 1 Axes>"
            ],
            "image/png": "[encoded data removed]"
          },
          "metadata": {}
        }
      ]
    },
    {
      "cell_type": "markdown",
      "source": [
        "# Powerball EDA"
      ],
      "metadata": {
        "id": "aWR4I7br89Yt"
      }
    },
    {
      "cell_type": "code",
      "source": [
        "powerball = pd.read_csv('powerball.csv')"
      ],
      "metadata": {
        "id": "tHqRrz-ztpbt"
      },
      "execution_count": 25,
      "outputs": []
    },
    {
      "cell_type": "code",
      "source": [
        "powerball.head()"
      ],
      "metadata": {
        "colab": {
          "base_uri": "https://localhost:8080/",
          "height": 204
        },
        "id": "_mKXe9EG-tRW",
        "outputId": "ee9b1695-8351-4f13-b67a-9bba0f1f6ec3"
      },
      "execution_count": 26,
      "outputs": [
        {
          "output_type": "execute_result",
          "data": {
            "text/plain": [
              "    Draw Date    Winning Numbers  Multiplier\n",
              "0  09/26/2020  11 21 27 36 62 24         3.0\n",
              "1  09/30/2020  14 18 36 49 67 18         2.0\n",
              "2  10/03/2020  18 31 36 43 47 20         2.0\n",
              "3  10/07/2020  06 24 30 53 56 19         2.0\n",
              "4  10/10/2020  05 18 23 40 50 18         3.0"
            ],
            "text/html": [
              "\n",
              "  <div id=\"df-4fe52882-2842-4dcc-9d41-6113b1e4b382\" class=\"colab-df-container\">\n",
              "    <div>\n",
              "<style scoped>\n",
              "    .dataframe tbody tr th:only-of-type {\n",
              "        vertical-align: middle;\n",
              "    }\n",
              "\n",
              "    .dataframe tbody tr th {\n",
              "        vertical-align: top;\n",
              "    }\n",
              "\n",
              "    .dataframe thead th {\n",
              "        text-align: right;\n",
              "    }\n",
              "</style>\n",
              "<table border=\"1\" class=\"dataframe\">\n",
              "  <thead>\n",
              "    <tr style=\"text-align: right;\">\n",
              "      <th></th>\n",
              "      <th>Draw Date</th>\n",
              "      <th>Winning Numbers</th>\n",
              "      <th>Multiplier</th>\n",
              "    </tr>\n",
              "  </thead>\n",
              "  <tbody>\n",
              "    <tr>\n",
              "      <th>0</th>\n",
              "      <td>09/26/2020</td>\n",
              "      <td>11 21 27 36 62 24</td>\n",
              "      <td>3.0</td>\n",
              "    </tr>\n",
              "    <tr>\n",
              "      <th>1</th>\n",
              "      <td>09/30/2020</td>\n",
              "      <td>14 18 36 49 67 18</td>\n",
              "      <td>2.0</td>\n",
              "    </tr>\n",
              "    <tr>\n",
              "      <th>2</th>\n",
              "      <td>10/03/2020</td>\n",
              "      <td>18 31 36 43 47 20</td>\n",
              "      <td>2.0</td>\n",
              "    </tr>\n",
              "    <tr>\n",
              "      <th>3</th>\n",
              "      <td>10/07/2020</td>\n",
              "      <td>06 24 30 53 56 19</td>\n",
              "      <td>2.0</td>\n",
              "    </tr>\n",
              "    <tr>\n",
              "      <th>4</th>\n",
              "      <td>10/10/2020</td>\n",
              "      <td>05 18 23 40 50 18</td>\n",
              "      <td>3.0</td>\n",
              "    </tr>\n",
              "  </tbody>\n",
              "</table>\n",
              "</div>\n",
              "    <div class=\"colab-df-buttons\">\n",
              "\n",
              "  <div class=\"colab-df-container\">\n",
              "    <button class=\"colab-df-convert\" onclick=\"convertToInteractive('df-4fe52882-2842-4dcc-9d41-6113b1e4b382')\"\n",
              "            title=\"Convert this dataframe to an interactive table.\"\n",
              "            style=\"display:none;\">\n",
              "\n",
              "  <svg xmlns=\"http://www.w3.org/2000/svg\" height=\"24px\" viewBox=\"0 -960 960 960\">\n",
              "    <path d=\"M120-120v-720h720v720H120Zm60-500h600v-160H180v160Zm220 220h160v-160H400v160Zm0 220h160v-160H400v160ZM180-400h160v-160H180v160Zm440 0h160v-160H620v160ZM180-180h160v-160H180v160Zm440 0h160v-160H620v160Z\"/>\n",
              "  </svg>\n",
              "    </button>\n",
              "\n",
              "  <style>\n",
              "    .colab-df-container {\n",
              "      display:flex;\n",
              "      gap: 12px;\n",
              "    }\n",
              "\n",
              "    .colab-df-convert {\n",
              "      background-color: #E8F0FE;\n",
              "      border: none;\n",
              "      border-radius: 50%;\n",
              "      cursor: pointer;\n",
              "      display: none;\n",
              "      fill: #1967D2;\n",
              "      height: 32px;\n",
              "      padding: 0 0 0 0;\n",
              "      width: 32px;\n",
              "    }\n",
              "\n",
              "    .colab-df-convert:hover {\n",
              "      background-color: #E2EBFA;\n",
              "      box-shadow: 0px 1px 2px rgba(60, 64, 67, 0.3), 0px 1px 3px 1px rgba(60, 64, 67, 0.15);\n",
              "      fill: #174EA6;\n",
              "    }\n",
              "\n",
              "    .colab-df-buttons div {\n",
              "      margin-bottom: 4px;\n",
              "    }\n",
              "\n",
              "    [theme=dark] .colab-df-convert {\n",
              "      background-color: #3B4455;\n",
              "      fill: #D2E3FC;\n",
              "    }\n",
              "\n",
              "    [theme=dark] .colab-df-convert:hover {\n",
              "      background-color: #434B5C;\n",
              "      box-shadow: 0px 1px 3px 1px rgba(0, 0, 0, 0.15);\n",
              "      filter: drop-shadow(0px 1px 2px rgba(0, 0, 0, 0.3));\n",
              "      fill: #FFFFFF;\n",
              "    }\n",
              "  </style>\n",
              "\n",
              "    <script>\n",
              "      const buttonEl =\n",
              "        document.querySelector('#df-4fe52882-2842-4dcc-9d41-6113b1e4b382 button.colab-df-convert');\n",
              "      buttonEl.style.display =\n",
              "        google.colab.kernel.accessAllowed ? 'block' : 'none';\n",
              "\n",
              "      async function convertToInteractive(key) {\n",
              "        const element = document.querySelector('#df-4fe52882-2842-4dcc-9d41-6113b1e4b382');\n",
              "        const dataTable =\n",
              "          await google.colab.kernel.invokeFunction('convertToInteractive',\n",
              "                                                    [key], {});\n",
              "        if (!dataTable) return;\n",
              "\n",
              "        const docLinkHtml = 'Like what you see? Visit the ' +\n",
              "          '<a target=\"_blank\" href=https://colab.research.google.com/notebooks/data_table.ipynb>data table notebook</a>'\n",
              "          + ' to learn more about interactive tables.';\n",
              "        element.innerHTML = '';\n",
              "        dataTable['output_type'] = 'display_data';\n",
              "        await google.colab.output.renderOutput(dataTable, element);\n",
              "        const docLink = document.createElement('div');\n",
              "        docLink.innerHTML = docLinkHtml;\n",
              "        element.appendChild(docLink);\n",
              "      }\n",
              "    </script>\n",
              "  </div>\n",
              "\n",
              "\n",
              "<div id=\"df-336d4b75-fd69-43ba-99f5-4f0eaaafc9ed\">\n",
              "  <button class=\"colab-df-quickchart\" onclick=\"quickchart('df-336d4b75-fd69-43ba-99f5-4f0eaaafc9ed')\"\n",
              "            title=\"Suggest charts\"\n",
              "            style=\"display:none;\">\n",
              "\n",
              "<svg xmlns=\"http://www.w3.org/2000/svg\" height=\"24px\"viewBox=\"0 0 24 24\"\n",
              "     width=\"24px\">\n",
              "    <g>\n",
              "        <path d=\"M19 3H5c-1.1 0-2 .9-2 2v14c0 1.1.9 2 2 2h14c1.1 0 2-.9 2-2V5c0-1.1-.9-2-2-2zM9 17H7v-7h2v7zm4 0h-2V7h2v10zm4 0h-2v-4h2v4z\"/>\n",
              "    </g>\n",
              "</svg>\n",
              "  </button>\n",
              "\n",
              "<style>\n",
              "  .colab-df-quickchart {\n",
              "      --bg-color: #E8F0FE;\n",
              "      --fill-color: #1967D2;\n",
              "      --hover-bg-color: #E2EBFA;\n",
              "      --hover-fill-color: #174EA6;\n",
              "      --disabled-fill-color: #AAA;\n",
              "      --disabled-bg-color: #DDD;\n",
              "  }\n",
              "\n",
              "  [theme=dark] .colab-df-quickchart {\n",
              "      --bg-color: #3B4455;\n",
              "      --fill-color: #D2E3FC;\n",
              "      --hover-bg-color: #434B5C;\n",
              "      --hover-fill-color: #FFFFFF;\n",
              "      --disabled-bg-color: #3B4455;\n",
              "      --disabled-fill-color: #666;\n",
              "  }\n",
              "\n",
              "  .colab-df-quickchart {\n",
              "    background-color: var(--bg-color);\n",
              "    border: none;\n",
              "    border-radius: 50%;\n",
              "    cursor: pointer;\n",
              "    display: none;\n",
              "    fill: var(--fill-color);\n",
              "    height: 32px;\n",
              "    padding: 0;\n",
              "    width: 32px;\n",
              "  }\n",
              "\n",
              "  .colab-df-quickchart:hover {\n",
              "    background-color: var(--hover-bg-color);\n",
              "    box-shadow: 0 1px 2px rgba(60, 64, 67, 0.3), 0 1px 3px 1px rgba(60, 64, 67, 0.15);\n",
              "    fill: var(--button-hover-fill-color);\n",
              "  }\n",
              "\n",
              "  .colab-df-quickchart-complete:disabled,\n",
              "  .colab-df-quickchart-complete:disabled:hover {\n",
              "    background-color: var(--disabled-bg-color);\n",
              "    fill: var(--disabled-fill-color);\n",
              "    box-shadow: none;\n",
              "  }\n",
              "\n",
              "  .colab-df-spinner {\n",
              "    border: 2px solid var(--fill-color);\n",
              "    border-color: transparent;\n",
              "    border-bottom-color: var(--fill-color);\n",
              "    animation:\n",
              "      spin 1s steps(1) infinite;\n",
              "  }\n",
              "\n",
              "  @keyframes spin {\n",
              "    0% {\n",
              "      border-color: transparent;\n",
              "      border-bottom-color: var(--fill-color);\n",
              "      border-left-color: var(--fill-color);\n",
              "    }\n",
              "    20% {\n",
              "      border-color: transparent;\n",
              "      border-left-color: var(--fill-color);\n",
              "      border-top-color: var(--fill-color);\n",
              "    }\n",
              "    30% {\n",
              "      border-color: transparent;\n",
              "      border-left-color: var(--fill-color);\n",
              "      border-top-color: var(--fill-color);\n",
              "      border-right-color: var(--fill-color);\n",
              "    }\n",
              "    40% {\n",
              "      border-color: transparent;\n",
              "      border-right-color: var(--fill-color);\n",
              "      border-top-color: var(--fill-color);\n",
              "    }\n",
              "    60% {\n",
              "      border-color: transparent;\n",
              "      border-right-color: var(--fill-color);\n",
              "    }\n",
              "    80% {\n",
              "      border-color: transparent;\n",
              "      border-right-color: var(--fill-color);\n",
              "      border-bottom-color: var(--fill-color);\n",
              "    }\n",
              "    90% {\n",
              "      border-color: transparent;\n",
              "      border-bottom-color: var(--fill-color);\n",
              "    }\n",
              "  }\n",
              "</style>\n",
              "\n",
              "  <script>\n",
              "    async function quickchart(key) {\n",
              "      const quickchartButtonEl =\n",
              "        document.querySelector('#' + key + ' button');\n",
              "      quickchartButtonEl.disabled = true;  // To prevent multiple clicks.\n",
              "      quickchartButtonEl.classList.add('colab-df-spinner');\n",
              "      try {\n",
              "        const charts = await google.colab.kernel.invokeFunction(\n",
              "            'suggestCharts', [key], {});\n",
              "      } catch (error) {\n",
              "        console.error('Error during call to suggestCharts:', error);\n",
              "      }\n",
              "      quickchartButtonEl.classList.remove('colab-df-spinner');\n",
              "      quickchartButtonEl.classList.add('colab-df-quickchart-complete');\n",
              "    }\n",
              "    (() => {\n",
              "      let quickchartButtonEl =\n",
              "        document.querySelector('#df-336d4b75-fd69-43ba-99f5-4f0eaaafc9ed button');\n",
              "      quickchartButtonEl.style.display =\n",
              "        google.colab.kernel.accessAllowed ? 'block' : 'none';\n",
              "    })();\n",
              "  </script>\n",
              "</div>\n",
              "\n",
              "    </div>\n",
              "  </div>\n"
            ],
            "application/vnd.google.colaboratory.intrinsic+json": {
              "type": "dataframe",
              "variable_name": "powerball",
              "summary": "{\n  \"name\": \"powerball\",\n  \"rows\": 1693,\n  \"fields\": [\n    {\n      \"column\": \"Draw Date\",\n      \"properties\": {\n        \"dtype\": \"object\",\n        \"num_unique_values\": 1693,\n        \"samples\": [\n          \"01/12/2022\",\n          \"09/28/2024\",\n          \"12/02/2023\"\n        ],\n        \"semantic_type\": \"\",\n        \"description\": \"\"\n      }\n    },\n    {\n      \"column\": \"Winning Numbers\",\n      \"properties\": {\n        \"dtype\": \"string\",\n        \"num_unique_values\": 1693,\n        \"samples\": [\n          \"12 21 22 30 33 24\",\n          \"03 11 13 24 39 22\",\n          \"28 35 41 47 60 03\"\n        ],\n        \"semantic_type\": \"\",\n        \"description\": \"\"\n      }\n    },\n    {\n      \"column\": \"Multiplier\",\n      \"properties\": {\n        \"dtype\": \"number\",\n        \"std\": 1.1752222686007099,\n        \"min\": 2.0,\n        \"max\": 10.0,\n        \"num_unique_values\": 5,\n        \"samples\": [\n          2.0,\n          5.0,\n          10.0\n        ],\n        \"semantic_type\": \"\",\n        \"description\": \"\"\n      }\n    }\n  ]\n}"
            }
          },
          "metadata": {},
          "execution_count": 26
        }
      ]
    },
    {
      "cell_type": "code",
      "source": [
        "# Chekcing fir null values in each column\n",
        "for i in powerball.columns:\n",
        "  if powerball[i].isnull().values.any():\n",
        "    print(f\"column {i} has null values\")"
      ],
      "metadata": {
        "colab": {
          "base_uri": "https://localhost:8080/"
        },
        "id": "yDihXQ3XVi8J",
        "outputId": "0140dbed-4bbd-4c24-f9f2-522f1ab22509"
      },
      "execution_count": 27,
      "outputs": [
        {
          "output_type": "stream",
          "name": "stdout",
          "text": [
            "column Multiplier has null values\n"
          ]
        }
      ]
    },
    {
      "cell_type": "code",
      "source": [
        "powerball['Multiplier'].fillna(0, inplace=True)"
      ],
      "metadata": {
        "colab": {
          "base_uri": "https://localhost:8080/"
        },
        "id": "kFdH6JYAVoaO",
        "outputId": "13334bc8-a755-4625-c021-28aa59ae06bd"
      },
      "execution_count": 28,
      "outputs": [
        {
          "output_type": "stream",
          "name": "stderr",
          "text": [
            "<ipython-input-28-69d6ca7d7057>:1: FutureWarning: A value is trying to be set on a copy of a DataFrame or Series through chained assignment using an inplace method.\n",
            "The behavior will change in pandas 3.0. This inplace method will never work because the intermediate object on which we are setting values always behaves as a copy.\n",
            "\n",
            "For example, when doing 'df[col].method(value, inplace=True)', try using 'df.method({col: value}, inplace=True)' or df[col] = df[col].method(value) instead, to perform the operation inplace on the original object.\n",
            "\n",
            "\n",
            "  powerball['Multiplier'].fillna(0, inplace=True)\n"
          ]
        }
      ]
    },
    {
      "cell_type": "code",
      "source": [
        "powerball['Num1'] = powerball['Winning Numbers'].str.split().str[0]\n",
        "powerball['Num2'] = powerball['Winning Numbers'].str.split().str[1]\n",
        "powerball['Num3'] = powerball['Winning Numbers'].str.split().str[2]\n",
        "powerball['Num4'] = powerball['Winning Numbers'].str.split().str[3]\n",
        "powerball['Num5'] = powerball['Winning Numbers'].str.split().str[4]\n",
        "powerball['Ball'] = powerball['Winning Numbers'].str.split().str[5]"
      ],
      "metadata": {
        "id": "8FKsqM39Ntks"
      },
      "execution_count": 29,
      "outputs": []
    },
    {
      "cell_type": "code",
      "source": [
        "# Removing the power ball from the winning numbers\n",
        "for i in range(powerball.shape[0]):\n",
        "  powerball['Winning Numbers'][i] = powerball['Winning Numbers'][i][:14]"
      ],
      "metadata": {
        "colab": {
          "base_uri": "https://localhost:8080/"
        },
        "id": "9hZy1pWBtlHo",
        "outputId": "bdde0e22-2d5f-49b1-bdba-0a19ea4c608b"
      },
      "execution_count": 37,
      "outputs": [
        {
          "output_type": "stream",
          "name": "stderr",
          "text": [
            "<ipython-input-37-b4a406fab68e>:3: FutureWarning: ChainedAssignmentError: behaviour will change in pandas 3.0!\n",
            "You are setting values through chained assignment. Currently this works in certain cases, but when using Copy-on-Write (which will become the default behaviour in pandas 3.0) this will never work to update the original DataFrame or Series, because the intermediate object on which we are setting values will behave as a copy.\n",
            "A typical example is when you are setting values in a column of a DataFrame, like:\n",
            "\n",
            "df[\"col\"][row_indexer] = value\n",
            "\n",
            "Use `df.loc[row_indexer, \"col\"] = values` instead, to perform the assignment in a single step and ensure this keeps updating the original `df`.\n",
            "\n",
            "See the caveats in the documentation: https://pandas.pydata.org/pandas-docs/stable/user_guide/indexing.html#returning-a-view-versus-a-copy\n",
            "\n",
            "  powerball['Winning Numbers'][i] = powerball['Winning Numbers'][i][:14]\n",
            "<ipython-input-37-b4a406fab68e>:3: SettingWithCopyWarning: \n",
            "A value is trying to be set on a copy of a slice from a DataFrame\n",
            "\n",
            "See the caveats in the documentation: https://pandas.pydata.org/pandas-docs/stable/user_guide/indexing.html#returning-a-view-versus-a-copy\n",
            "  powerball['Winning Numbers'][i] = powerball['Winning Numbers'][i][:14]\n"
          ]
        }
      ]
    },
    {
      "cell_type": "code",
      "source": [
        "# Diving the draw date columns into Month, Day, Year\n",
        "\n",
        "powerball['Month'] = powerball['Draw Date'].str.split(\"/\").str[0]\n",
        "powerball['Day'] = powerball['Draw Date'].str.split(\"/\").str[1]\n",
        "powerball['Year'] = powerball['Draw Date'].str.split(\"/\").str[2]"
      ],
      "metadata": {
        "id": "WjveAxEdQlJo"
      },
      "execution_count": 31,
      "outputs": []
    },
    {
      "cell_type": "code",
      "source": [
        "# Reordering the columns\n",
        "powerball = powerball[[\"Month\", \"Day\", \"Year\", \"Num1\", \"Num2\", \"Num3\", \"Num4\", \"Num5\", \"Winning Numbers\", \"Ball\", \"Multiplier\"]]"
      ],
      "metadata": {
        "id": "fYLBXfMmOTz2"
      },
      "execution_count": 32,
      "outputs": []
    },
    {
      "cell_type": "code",
      "source": [
        "powerball.head()"
      ],
      "metadata": {
        "colab": {
          "base_uri": "https://localhost:8080/",
          "height": 204
        },
        "id": "9ExXusmJwAW6",
        "outputId": "165c1bf1-a468-4f1f-c130-be945943fed7"
      },
      "execution_count": 38,
      "outputs": [
        {
          "output_type": "execute_result",
          "data": {
            "text/plain": [
              "   Month  Day  Year  Num1  Num2  Num3  Num4  Num5 Winning Numbers  Ball  \\\n",
              "0      9   26  2020    11    21    27    36    62  11 21 27 36 62    24   \n",
              "1      9   30  2020    14    18    36    49    67  14 18 36 49 67    18   \n",
              "2     10    3  2020    18    31    36    43    47  18 31 36 43 47    20   \n",
              "3     10    7  2020     6    24    30    53    56  06 24 30 53 56    19   \n",
              "4     10   10  2020     5    18    23    40    50  05 18 23 40 50    18   \n",
              "\n",
              "   Multiplier  \n",
              "0           3  \n",
              "1           2  \n",
              "2           2  \n",
              "3           2  \n",
              "4           3  "
            ],
            "text/html": [
              "\n",
              "  <div id=\"df-3deee6db-22ee-4949-b253-96f2bb861988\" class=\"colab-df-container\">\n",
              "    <div>\n",
              "<style scoped>\n",
              "    .dataframe tbody tr th:only-of-type {\n",
              "        vertical-align: middle;\n",
              "    }\n",
              "\n",
              "    .dataframe tbody tr th {\n",
              "        vertical-align: top;\n",
              "    }\n",
              "\n",
              "    .dataframe thead th {\n",
              "        text-align: right;\n",
              "    }\n",
              "</style>\n",
              "<table border=\"1\" class=\"dataframe\">\n",
              "  <thead>\n",
              "    <tr style=\"text-align: right;\">\n",
              "      <th></th>\n",
              "      <th>Month</th>\n",
              "      <th>Day</th>\n",
              "      <th>Year</th>\n",
              "      <th>Num1</th>\n",
              "      <th>Num2</th>\n",
              "      <th>Num3</th>\n",
              "      <th>Num4</th>\n",
              "      <th>Num5</th>\n",
              "      <th>Winning Numbers</th>\n",
              "      <th>Ball</th>\n",
              "      <th>Multiplier</th>\n",
              "    </tr>\n",
              "  </thead>\n",
              "  <tbody>\n",
              "    <tr>\n",
              "      <th>0</th>\n",
              "      <td>9</td>\n",
              "      <td>26</td>\n",
              "      <td>2020</td>\n",
              "      <td>11</td>\n",
              "      <td>21</td>\n",
              "      <td>27</td>\n",
              "      <td>36</td>\n",
              "      <td>62</td>\n",
              "      <td>11 21 27 36 62</td>\n",
              "      <td>24</td>\n",
              "      <td>3</td>\n",
              "    </tr>\n",
              "    <tr>\n",
              "      <th>1</th>\n",
              "      <td>9</td>\n",
              "      <td>30</td>\n",
              "      <td>2020</td>\n",
              "      <td>14</td>\n",
              "      <td>18</td>\n",
              "      <td>36</td>\n",
              "      <td>49</td>\n",
              "      <td>67</td>\n",
              "      <td>14 18 36 49 67</td>\n",
              "      <td>18</td>\n",
              "      <td>2</td>\n",
              "    </tr>\n",
              "    <tr>\n",
              "      <th>2</th>\n",
              "      <td>10</td>\n",
              "      <td>3</td>\n",
              "      <td>2020</td>\n",
              "      <td>18</td>\n",
              "      <td>31</td>\n",
              "      <td>36</td>\n",
              "      <td>43</td>\n",
              "      <td>47</td>\n",
              "      <td>18 31 36 43 47</td>\n",
              "      <td>20</td>\n",
              "      <td>2</td>\n",
              "    </tr>\n",
              "    <tr>\n",
              "      <th>3</th>\n",
              "      <td>10</td>\n",
              "      <td>7</td>\n",
              "      <td>2020</td>\n",
              "      <td>6</td>\n",
              "      <td>24</td>\n",
              "      <td>30</td>\n",
              "      <td>53</td>\n",
              "      <td>56</td>\n",
              "      <td>06 24 30 53 56</td>\n",
              "      <td>19</td>\n",
              "      <td>2</td>\n",
              "    </tr>\n",
              "    <tr>\n",
              "      <th>4</th>\n",
              "      <td>10</td>\n",
              "      <td>10</td>\n",
              "      <td>2020</td>\n",
              "      <td>5</td>\n",
              "      <td>18</td>\n",
              "      <td>23</td>\n",
              "      <td>40</td>\n",
              "      <td>50</td>\n",
              "      <td>05 18 23 40 50</td>\n",
              "      <td>18</td>\n",
              "      <td>3</td>\n",
              "    </tr>\n",
              "  </tbody>\n",
              "</table>\n",
              "</div>\n",
              "    <div class=\"colab-df-buttons\">\n",
              "\n",
              "  <div class=\"colab-df-container\">\n",
              "    <button class=\"colab-df-convert\" onclick=\"convertToInteractive('df-3deee6db-22ee-4949-b253-96f2bb861988')\"\n",
              "            title=\"Convert this dataframe to an interactive table.\"\n",
              "            style=\"display:none;\">\n",
              "\n",
              "  <svg xmlns=\"http://www.w3.org/2000/svg\" height=\"24px\" viewBox=\"0 -960 960 960\">\n",
              "    <path d=\"M120-120v-720h720v720H120Zm60-500h600v-160H180v160Zm220 220h160v-160H400v160Zm0 220h160v-160H400v160ZM180-400h160v-160H180v160Zm440 0h160v-160H620v160ZM180-180h160v-160H180v160Zm440 0h160v-160H620v160Z\"/>\n",
              "  </svg>\n",
              "    </button>\n",
              "\n",
              "  <style>\n",
              "    .colab-df-container {\n",
              "      display:flex;\n",
              "      gap: 12px;\n",
              "    }\n",
              "\n",
              "    .colab-df-convert {\n",
              "      background-color: #E8F0FE;\n",
              "      border: none;\n",
              "      border-radius: 50%;\n",
              "      cursor: pointer;\n",
              "      display: none;\n",
              "      fill: #1967D2;\n",
              "      height: 32px;\n",
              "      padding: 0 0 0 0;\n",
              "      width: 32px;\n",
              "    }\n",
              "\n",
              "    .colab-df-convert:hover {\n",
              "      background-color: #E2EBFA;\n",
              "      box-shadow: 0px 1px 2px rgba(60, 64, 67, 0.3), 0px 1px 3px 1px rgba(60, 64, 67, 0.15);\n",
              "      fill: #174EA6;\n",
              "    }\n",
              "\n",
              "    .colab-df-buttons div {\n",
              "      margin-bottom: 4px;\n",
              "    }\n",
              "\n",
              "    [theme=dark] .colab-df-convert {\n",
              "      background-color: #3B4455;\n",
              "      fill: #D2E3FC;\n",
              "    }\n",
              "\n",
              "    [theme=dark] .colab-df-convert:hover {\n",
              "      background-color: #434B5C;\n",
              "      box-shadow: 0px 1px 3px 1px rgba(0, 0, 0, 0.15);\n",
              "      filter: drop-shadow(0px 1px 2px rgba(0, 0, 0, 0.3));\n",
              "      fill: #FFFFFF;\n",
              "    }\n",
              "  </style>\n",
              "\n",
              "    <script>\n",
              "      const buttonEl =\n",
              "        document.querySelector('#df-3deee6db-22ee-4949-b253-96f2bb861988 button.colab-df-convert');\n",
              "      buttonEl.style.display =\n",
              "        google.colab.kernel.accessAllowed ? 'block' : 'none';\n",
              "\n",
              "      async function convertToInteractive(key) {\n",
              "        const element = document.querySelector('#df-3deee6db-22ee-4949-b253-96f2bb861988');\n",
              "        const dataTable =\n",
              "          await google.colab.kernel.invokeFunction('convertToInteractive',\n",
              "                                                    [key], {});\n",
              "        if (!dataTable) return;\n",
              "\n",
              "        const docLinkHtml = 'Like what you see? Visit the ' +\n",
              "          '<a target=\"_blank\" href=https://colab.research.google.com/notebooks/data_table.ipynb>data table notebook</a>'\n",
              "          + ' to learn more about interactive tables.';\n",
              "        element.innerHTML = '';\n",
              "        dataTable['output_type'] = 'display_data';\n",
              "        await google.colab.output.renderOutput(dataTable, element);\n",
              "        const docLink = document.createElement('div');\n",
              "        docLink.innerHTML = docLinkHtml;\n",
              "        element.appendChild(docLink);\n",
              "      }\n",
              "    </script>\n",
              "  </div>\n",
              "\n",
              "\n",
              "<div id=\"df-2206fbd7-202e-41c7-a9cc-6b7d64c96960\">\n",
              "  <button class=\"colab-df-quickchart\" onclick=\"quickchart('df-2206fbd7-202e-41c7-a9cc-6b7d64c96960')\"\n",
              "            title=\"Suggest charts\"\n",
              "            style=\"display:none;\">\n",
              "\n",
              "<svg xmlns=\"http://www.w3.org/2000/svg\" height=\"24px\"viewBox=\"0 0 24 24\"\n",
              "     width=\"24px\">\n",
              "    <g>\n",
              "        <path d=\"M19 3H5c-1.1 0-2 .9-2 2v14c0 1.1.9 2 2 2h14c1.1 0 2-.9 2-2V5c0-1.1-.9-2-2-2zM9 17H7v-7h2v7zm4 0h-2V7h2v10zm4 0h-2v-4h2v4z\"/>\n",
              "    </g>\n",
              "</svg>\n",
              "  </button>\n",
              "\n",
              "<style>\n",
              "  .colab-df-quickchart {\n",
              "      --bg-color: #E8F0FE;\n",
              "      --fill-color: #1967D2;\n",
              "      --hover-bg-color: #E2EBFA;\n",
              "      --hover-fill-color: #174EA6;\n",
              "      --disabled-fill-color: #AAA;\n",
              "      --disabled-bg-color: #DDD;\n",
              "  }\n",
              "\n",
              "  [theme=dark] .colab-df-quickchart {\n",
              "      --bg-color: #3B4455;\n",
              "      --fill-color: #D2E3FC;\n",
              "      --hover-bg-color: #434B5C;\n",
              "      --hover-fill-color: #FFFFFF;\n",
              "      --disabled-bg-color: #3B4455;\n",
              "      --disabled-fill-color: #666;\n",
              "  }\n",
              "\n",
              "  .colab-df-quickchart {\n",
              "    background-color: var(--bg-color);\n",
              "    border: none;\n",
              "    border-radius: 50%;\n",
              "    cursor: pointer;\n",
              "    display: none;\n",
              "    fill: var(--fill-color);\n",
              "    height: 32px;\n",
              "    padding: 0;\n",
              "    width: 32px;\n",
              "  }\n",
              "\n",
              "  .colab-df-quickchart:hover {\n",
              "    background-color: var(--hover-bg-color);\n",
              "    box-shadow: 0 1px 2px rgba(60, 64, 67, 0.3), 0 1px 3px 1px rgba(60, 64, 67, 0.15);\n",
              "    fill: var(--button-hover-fill-color);\n",
              "  }\n",
              "\n",
              "  .colab-df-quickchart-complete:disabled,\n",
              "  .colab-df-quickchart-complete:disabled:hover {\n",
              "    background-color: var(--disabled-bg-color);\n",
              "    fill: var(--disabled-fill-color);\n",
              "    box-shadow: none;\n",
              "  }\n",
              "\n",
              "  .colab-df-spinner {\n",
              "    border: 2px solid var(--fill-color);\n",
              "    border-color: transparent;\n",
              "    border-bottom-color: var(--fill-color);\n",
              "    animation:\n",
              "      spin 1s steps(1) infinite;\n",
              "  }\n",
              "\n",
              "  @keyframes spin {\n",
              "    0% {\n",
              "      border-color: transparent;\n",
              "      border-bottom-color: var(--fill-color);\n",
              "      border-left-color: var(--fill-color);\n",
              "    }\n",
              "    20% {\n",
              "      border-color: transparent;\n",
              "      border-left-color: var(--fill-color);\n",
              "      border-top-color: var(--fill-color);\n",
              "    }\n",
              "    30% {\n",
              "      border-color: transparent;\n",
              "      border-left-color: var(--fill-color);\n",
              "      border-top-color: var(--fill-color);\n",
              "      border-right-color: var(--fill-color);\n",
              "    }\n",
              "    40% {\n",
              "      border-color: transparent;\n",
              "      border-right-color: var(--fill-color);\n",
              "      border-top-color: var(--fill-color);\n",
              "    }\n",
              "    60% {\n",
              "      border-color: transparent;\n",
              "      border-right-color: var(--fill-color);\n",
              "    }\n",
              "    80% {\n",
              "      border-color: transparent;\n",
              "      border-right-color: var(--fill-color);\n",
              "      border-bottom-color: var(--fill-color);\n",
              "    }\n",
              "    90% {\n",
              "      border-color: transparent;\n",
              "      border-bottom-color: var(--fill-color);\n",
              "    }\n",
              "  }\n",
              "</style>\n",
              "\n",
              "  <script>\n",
              "    async function quickchart(key) {\n",
              "      const quickchartButtonEl =\n",
              "        document.querySelector('#' + key + ' button');\n",
              "      quickchartButtonEl.disabled = true;  // To prevent multiple clicks.\n",
              "      quickchartButtonEl.classList.add('colab-df-spinner');\n",
              "      try {\n",
              "        const charts = await google.colab.kernel.invokeFunction(\n",
              "            'suggestCharts', [key], {});\n",
              "      } catch (error) {\n",
              "        console.error('Error during call to suggestCharts:', error);\n",
              "      }\n",
              "      quickchartButtonEl.classList.remove('colab-df-spinner');\n",
              "      quickchartButtonEl.classList.add('colab-df-quickchart-complete');\n",
              "    }\n",
              "    (() => {\n",
              "      let quickchartButtonEl =\n",
              "        document.querySelector('#df-2206fbd7-202e-41c7-a9cc-6b7d64c96960 button');\n",
              "      quickchartButtonEl.style.display =\n",
              "        google.colab.kernel.accessAllowed ? 'block' : 'none';\n",
              "    })();\n",
              "  </script>\n",
              "</div>\n",
              "\n",
              "    </div>\n",
              "  </div>\n"
            ],
            "application/vnd.google.colaboratory.intrinsic+json": {
              "type": "dataframe",
              "variable_name": "powerball",
              "summary": "{\n  \"name\": \"powerball\",\n  \"rows\": 1693,\n  \"fields\": [\n    {\n      \"column\": \"Month\",\n      \"properties\": {\n        \"dtype\": \"Int64\",\n        \"num_unique_values\": 12,\n        \"samples\": [\n          6,\n          7,\n          9\n        ],\n        \"semantic_type\": \"\",\n        \"description\": \"\"\n      }\n    },\n    {\n      \"column\": \"Day\",\n      \"properties\": {\n        \"dtype\": \"Int64\",\n        \"num_unique_values\": 31,\n        \"samples\": [\n          22,\n          2,\n          13\n        ],\n        \"semantic_type\": \"\",\n        \"description\": \"\"\n      }\n    },\n    {\n      \"column\": \"Year\",\n      \"properties\": {\n        \"dtype\": \"Int64\",\n        \"num_unique_values\": 15,\n        \"samples\": [\n          2012,\n          2010,\n          2020\n        ],\n        \"semantic_type\": \"\",\n        \"description\": \"\"\n      }\n    },\n    {\n      \"column\": \"Num1\",\n      \"properties\": {\n        \"dtype\": \"Int64\",\n        \"num_unique_values\": 49,\n        \"samples\": [\n          8,\n          31,\n          52\n        ],\n        \"semantic_type\": \"\",\n        \"description\": \"\"\n      }\n    },\n    {\n      \"column\": \"Num2\",\n      \"properties\": {\n        \"dtype\": \"Int64\",\n        \"num_unique_values\": 58,\n        \"samples\": [\n          21,\n          10,\n          30\n        ],\n        \"semantic_type\": \"\",\n        \"description\": \"\"\n      }\n    },\n    {\n      \"column\": \"Num3\",\n      \"properties\": {\n        \"dtype\": \"Int64\",\n        \"num_unique_values\": 61,\n        \"samples\": [\n          27,\n          31,\n          29\n        ],\n        \"semantic_type\": \"\",\n        \"description\": \"\"\n      }\n    },\n    {\n      \"column\": \"Num4\",\n      \"properties\": {\n        \"dtype\": \"Int64\",\n        \"num_unique_values\": 59,\n        \"samples\": [\n          36,\n          37,\n          33\n        ],\n        \"semantic_type\": \"\",\n        \"description\": \"\"\n      }\n    },\n    {\n      \"column\": \"Num5\",\n      \"properties\": {\n        \"dtype\": \"Int64\",\n        \"num_unique_values\": 50,\n        \"samples\": [\n          52,\n          36,\n          23\n        ],\n        \"semantic_type\": \"\",\n        \"description\": \"\"\n      }\n    },\n    {\n      \"column\": \"Winning Numbers\",\n      \"properties\": {\n        \"dtype\": \"string\",\n        \"num_unique_values\": 1693,\n        \"samples\": [\n          \"12 21 22 30 33\",\n          \"03 11 13 24 39\",\n          \"28 35 41 47 60\"\n        ],\n        \"semantic_type\": \"\",\n        \"description\": \"\"\n      }\n    },\n    {\n      \"column\": \"Ball\",\n      \"properties\": {\n        \"dtype\": \"Int64\",\n        \"num_unique_values\": 39,\n        \"samples\": [\n          34,\n          36,\n          5\n        ],\n        \"semantic_type\": \"\",\n        \"description\": \"\"\n      }\n    },\n    {\n      \"column\": \"Multiplier\",\n      \"properties\": {\n        \"dtype\": \"Int64\",\n        \"num_unique_values\": 6,\n        \"samples\": [\n          3,\n          2,\n          0\n        ],\n        \"semantic_type\": \"\",\n        \"description\": \"\"\n      }\n    }\n  ]\n}"
            }
          },
          "metadata": {},
          "execution_count": 38
        }
      ]
    },
    {
      "cell_type": "code",
      "source": [
        "convert_to_int(powerball)"
      ],
      "metadata": {
        "id": "CUDbgEcXOY3r"
      },
      "execution_count": 34,
      "outputs": []
    },
    {
      "cell_type": "code",
      "source": [
        "powerball.info()"
      ],
      "metadata": {
        "colab": {
          "base_uri": "https://localhost:8080/"
        },
        "id": "WEgtCnsPOQAF",
        "outputId": "c87014d9-553c-4078-8345-5a7a3cb84f2f"
      },
      "execution_count": 35,
      "outputs": [
        {
          "output_type": "stream",
          "name": "stdout",
          "text": [
            "<class 'pandas.core.frame.DataFrame'>\n",
            "RangeIndex: 1693 entries, 0 to 1692\n",
            "Data columns (total 11 columns):\n",
            " #   Column           Non-Null Count  Dtype \n",
            "---  ------           --------------  ----- \n",
            " 0   Month            1693 non-null   Int64 \n",
            " 1   Day              1693 non-null   Int64 \n",
            " 2   Year             1693 non-null   Int64 \n",
            " 3   Num1             1693 non-null   Int64 \n",
            " 4   Num2             1693 non-null   Int64 \n",
            " 5   Num3             1693 non-null   Int64 \n",
            " 6   Num4             1693 non-null   Int64 \n",
            " 7   Num5             1693 non-null   Int64 \n",
            " 8   Winning Numbers  1693 non-null   object\n",
            " 9   Ball             1693 non-null   Int64 \n",
            " 10  Multiplier       1693 non-null   Int64 \n",
            "dtypes: Int64(10), object(1)\n",
            "memory usage: 162.2+ KB\n"
          ]
        }
      ]
    },
    {
      "cell_type": "code",
      "source": [
        "duplicate_numbers(powerball)"
      ],
      "metadata": {
        "colab": {
          "base_uri": "https://localhost:8080/"
        },
        "id": "-kcEEi25qCiu",
        "outputId": "9383d620-7015-458b-ffc4-b7878d536071"
      },
      "execution_count": 36,
      "outputs": [
        {
          "output_type": "stream",
          "name": "stdout",
          "text": [
            "No duplicate winning numbers found.\n"
          ]
        }
      ]
    },
    {
      "cell_type": "code",
      "source": [
        "# Saving the processed MgaMillions darafmdataframerw to csv\n",
        "mega_millions.to_csv('drive/MyDrive/PowerMega/processed_powerball.csv', index=False)"
      ],
      "metadata": {
        "id": "ChU37DaYNXGx"
      },
      "execution_count": 40,
      "outputs": []
    },
    {
      "cell_type": "code",
      "source": [
        "num_cols = [x for x in powerball.columns if x.startswith(\"Num\")]\n",
        "for col in num_cols:\n",
        "  count_most_repeated(powerball, col, 7)"
      ],
      "metadata": {
        "colab": {
          "base_uri": "https://localhost:8080/"
        },
        "id": "Xrq_MFRPOQCS",
        "outputId": "1bc306fd-1e20-4bc6-de7d-10f8575316e4"
      },
      "execution_count": 39,
      "outputs": [
        {
          "output_type": "stream",
          "name": "stdout",
          "text": [
            "Top 7 repeated numbers for Num1 are: [1, 2, 3, 5, 4, 6, 7]\n",
            "Number: 1, Count: 128\n",
            "Number: 2, Count: 117\n",
            "Number: 3, Count: 112\n",
            "Number: 5, Count: 104\n",
            "Number: 4, Count: 97\n",
            "Number: 6, Count: 81\n",
            "Number: 7, Count: 81\n",
            "Top 7 repeated numbers for Num2 are: [12, 21, 28, 15, 20, 23, 10]\n",
            "Number: 12, Count: 64\n",
            "Number: 21, Count: 63\n",
            "Number: 28, Count: 59\n",
            "Number: 15, Count: 56\n",
            "Number: 20, Count: 54\n",
            "Number: 23, Count: 54\n",
            "Number: 10, Count: 54\n",
            "Top 7 repeated numbers for Num3 are: [37, 33, 35, 39, 32, 36, 34]\n",
            "Number: 37, Count: 58\n",
            "Number: 33, Count: 58\n",
            "Number: 35, Count: 55\n",
            "Number: 39, Count: 55\n",
            "Number: 32, Count: 51\n",
            "Number: 36, Count: 51\n",
            "Number: 34, Count: 51\n",
            "Top 7 repeated numbers for Num4 are: [53, 52, 47, 45, 39, 46, 55]\n",
            "Number: 53, Count: 61\n",
            "Number: 52, Count: 59\n",
            "Number: 47, Count: 59\n",
            "Number: 45, Count: 57\n",
            "Number: 39, Count: 56\n",
            "Number: 46, Count: 56\n",
            "Number: 55, Count: 55\n",
            "Top 7 repeated numbers for Num5 are: [69, 59, 58, 68, 67, 57, 56]\n",
            "Number: 69, Count: 98\n",
            "Number: 59, Count: 90\n",
            "Number: 58, Count: 86\n",
            "Number: 68, Count: 79\n",
            "Number: 67, Count: 73\n",
            "Number: 57, Count: 72\n",
            "Number: 56, Count: 68\n"
          ]
        }
      ]
    },
    {
      "cell_type": "code",
      "source": [],
      "metadata": {
        "id": "z33N1CO9VgbC"
      },
      "execution_count": null,
      "outputs": []
    },
    {
      "cell_type": "code",
      "source": [
        "count_multiplier_power = powerball[\"Multiplier\"].value_counts()\n",
        "for number, count in count_multiplier_power.items():\n",
        "    print(f\"Number: {number}, Count: {count}\")"
      ],
      "metadata": {
        "colab": {
          "base_uri": "https://localhost:8080/"
        },
        "id": "9lEYbirxU2qL",
        "outputId": "04ed364d-dd2f-4908-8ea2-ebd4f7703879"
      },
      "execution_count": 41,
      "outputs": [
        {
          "output_type": "stream",
          "name": "stdout",
          "text": [
            "Number: 2, Count: 768\n",
            "Number: 3, Count: 453\n",
            "Number: 0, Count: 210\n",
            "Number: 4, Count: 142\n",
            "Number: 5, Count: 104\n",
            "Number: 10, Count: 16\n"
          ]
        }
      ]
    },
    {
      "cell_type": "code",
      "source": [
        "plt.figure(figsize=(15, 6))\n",
        "count_multiplier_power.plot(kind='bar', color=\"blue\")\n",
        "plt.title(f'All values count in')\n",
        "plt.xlabel('Numbers')\n",
        "plt.ylabel('Counts')\n",
        "plt.xticks(rotation=0)\n",
        "plt.grid(axis='y', linestyle='--', alpha=0.7)\n",
        "plt.show()"
      ],
      "metadata": {
        "colab": {
          "base_uri": "https://localhost:8080/",
          "height": 497
        },
        "id": "iHlvXGtKVzpH",
        "outputId": "f60ad840-267e-4c71-8722-7f580ef0e51e"
      },
      "execution_count": 42,
      "outputs": [
        {
          "output_type": "display_data",
          "data": {
            "text/plain": [
              "<Figure size 1500x600 with 1 Axes>"
            ],
            "image/png": "[encoded data removed]"
          },
          "metadata": {}
        }
      ]
    },
    {
      "cell_type": "code",
      "source": [
        "def top_n_percent(dataframe, column, n):\n",
        "  top_n_items = dataframe[column].value_counts().head(n)\n",
        "  total = 0\n",
        "  for number, count in top_n_items.items():\n",
        "    total += count\n",
        "  percent = round((total / dataframe.shape[0] ) * 100)\n",
        "  print(f\"percentage of top {n} number in {i} is: {percent} %\")\n"
      ],
      "metadata": {
        "id": "F3HODQBgdlGW"
      },
      "execution_count": 43,
      "outputs": []
    },
    {
      "cell_type": "markdown",
      "source": [
        "# MegaMillions vs PowerBall top Winning numbers"
      ],
      "metadata": {
        "id": "wVvjS2vOnhfQ"
      }
    },
    {
      "cell_type": "code",
      "source": [
        "cols = ['Num1', 'Num2', 'Num3', 'Num4', 'Num5']\n",
        "n = 5\n",
        "print(\"PowerBall\")\n",
        "for i in cols:\n",
        "  top_n_percent(powerball, i, n)\n",
        "\n",
        "print(43*\"*\")\n",
        "print(\"MegaMillions\")\n",
        "for i in cols:\n",
        "  top_n_percent(mega_millions, i, n)\n"
      ],
      "metadata": {
        "colab": {
          "base_uri": "https://localhost:8080/"
        },
        "id": "Izx7e9vzpAKs",
        "outputId": "a4504f02-1081-44a2-e650-5c95a607166e"
      },
      "execution_count": 44,
      "outputs": [
        {
          "output_type": "stream",
          "name": "stdout",
          "text": [
            "PowerBall\n",
            "percentage of top 5 number in Num1 is: 33 %\n",
            "percentage of top 5 number in Num2 is: 17 %\n",
            "percentage of top 5 number in Num3 is: 16 %\n",
            "percentage of top 5 number in Num4 is: 17 %\n",
            "percentage of top 5 number in Num5 is: 25 %\n",
            "*******************************************\n",
            "MegaMillions\n",
            "percentage of top 5 number in Num1 is: 35 %\n",
            "percentage of top 5 number in Num2 is: 19 %\n",
            "percentage of top 5 number in Num3 is: 16 %\n",
            "percentage of top 5 number in Num4 is: 18 %\n",
            "percentage of top 5 number in Num5 is: 22 %\n"
          ]
        }
      ]
    },
    {
      "cell_type": "code",
      "source": [
        "for col in cols:\n",
        "  print(f\"For {col} in PowerBall\")\n",
        "  count_most_repeated(powerball, col, 3)\n",
        "  print(f\"\\nFor {col} in MegaMillions\")\n",
        "  count_most_repeated(mega_millions, col, 3)\n",
        "  print(43*\"*\")"
      ],
      "metadata": {
        "colab": {
          "base_uri": "https://localhost:8080/"
        },
        "id": "3btyxWzTnpmx",
        "outputId": "a89ab75a-7838-4c0e-e645-135f9346049d"
      },
      "execution_count": 56,
      "outputs": [
        {
          "output_type": "stream",
          "name": "stdout",
          "text": [
            "For Num1 in PowerBall\n",
            "Top 3 repeated numbers for Num1 are: [1, 2, 3]\n",
            "Number: 1, Count: 128\n",
            "Number: 2, Count: 117\n",
            "Number: 3, Count: 112\n",
            "\n",
            "For Num1 in MegaMillions\n",
            "Top 3 repeated numbers for Num1 are: [2, 3, 1]\n",
            "Number: 2, Count: 191\n",
            "Number: 3, Count: 183\n",
            "Number: 1, Count: 171\n",
            "*******************************************\n",
            "For Num2 in PowerBall\n",
            "Top 3 repeated numbers for Num2 are: [12, 21, 28]\n",
            "Number: 12, Count: 64\n",
            "Number: 21, Count: 63\n",
            "Number: 28, Count: 59\n",
            "\n",
            "For Num2 in MegaMillions\n",
            "Top 3 repeated numbers for Num2 are: [17, 15, 13]\n",
            "Number: 17, Count: 94\n",
            "Number: 15, Count: 90\n",
            "Number: 13, Count: 87\n",
            "*******************************************\n",
            "For Num3 in PowerBall\n",
            "Top 3 repeated numbers for Num3 are: [37, 33, 35]\n",
            "Number: 37, Count: 58\n",
            "Number: 33, Count: 58\n",
            "Number: 35, Count: 55\n",
            "\n",
            "For Num3 in MegaMillions\n",
            "Top 3 repeated numbers for Num3 are: [31, 26, 27]\n",
            "Number: 31, Count: 85\n",
            "Number: 26, Count: 80\n",
            "Number: 27, Count: 75\n",
            "*******************************************\n",
            "For Num4 in PowerBall\n",
            "Top 3 repeated numbers for Num4 are: [53, 52, 47]\n",
            "Number: 53, Count: 61\n",
            "Number: 52, Count: 59\n",
            "Number: 47, Count: 59\n",
            "\n",
            "For Num4 in MegaMillions\n",
            "Top 3 repeated numbers for Num4 are: [46, 42, 38]\n",
            "Number: 46, Count: 95\n",
            "Number: 42, Count: 84\n",
            "Number: 38, Count: 80\n",
            "*******************************************\n",
            "For Num5 in PowerBall\n",
            "Top 3 repeated numbers for Num5 are: [69, 59, 58]\n",
            "Number: 69, Count: 98\n",
            "Number: 59, Count: 90\n",
            "Number: 58, Count: 86\n",
            "\n",
            "For Num5 in MegaMillions\n",
            "Top 3 repeated numbers for Num5 are: [52, 51, 56]\n",
            "Number: 52, Count: 120\n",
            "Number: 51, Count: 114\n",
            "Number: 56, Count: 100\n",
            "*******************************************\n"
          ]
        }
      ]
    },
    {
      "cell_type": "markdown",
      "source": [
        "## We can see that numbers gets repeated more often in the **MegaMillions** compard to th **Powerball**"
      ],
      "metadata": {
        "id": "s4n5TuAJU99s"
      }
    },
    {
      "cell_type": "code",
      "source": [],
      "metadata": {
        "id": "iQecsU7DU9X-"
      },
      "execution_count": null,
      "outputs": []
    },
    {
      "cell_type": "code",
      "source": [
        "prime = 0\n",
        "odd = 0\n",
        "for i in range(powerball.shape[0]):\n",
        "  if powerball['Month'].iloc[i] %2 == 0:\n",
        "    if powerball['Day'].iloc[i] %2 == 0:\n",
        "      if powerball['Year'].iloc[i] %2 == 0:\n",
        "        if powerball['Num2'][i] %2 == 0:\n",
        "          prime += 1\n",
        "  else:\n",
        "    if powerball['Day'].iloc[i] %2 != 0:\n",
        "      if powerball['Year'].iloc[i] %2 != 0:\n",
        "        if powerball['Num2'][i] %2 != 0:\n",
        "          odd += 1\n",
        "print(prime)\n",
        "print(odd)"
      ],
      "metadata": {
        "colab": {
          "base_uri": "https://localhost:8080/"
        },
        "id": "5HSvYkiH4A3_",
        "outputId": "f159e18b-a137-4eff-9473-2b3a7467a730"
      },
      "execution_count": 53,
      "outputs": [
        {
          "output_type": "stream",
          "name": "stdout",
          "text": [
            "114\n",
            "102\n"
          ]
        }
      ]
    }
  ]
}